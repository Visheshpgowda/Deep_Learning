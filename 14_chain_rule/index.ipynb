{
 "cells": [
  {
   "cell_type": "code",
   "execution_count": 1,
   "metadata": {},
   "outputs": [
    {
     "name": "stdout",
     "output_type": "stream",
     "text": [
      "Requirement already satisfied: tensorflow in c:\\users\\vishe\\appdata\\local\\programs\\python\\python311\\lib\\site-packages (2.17.0)\n",
      "Requirement already satisfied: tensorflow-intel==2.17.0 in c:\\users\\vishe\\appdata\\local\\programs\\python\\python311\\lib\\site-packages (from tensorflow) (2.17.0)\n",
      "Requirement already satisfied: absl-py>=1.0.0 in c:\\users\\vishe\\appdata\\local\\programs\\python\\python311\\lib\\site-packages (from tensorflow-intel==2.17.0->tensorflow) (2.1.0)\n",
      "Requirement already satisfied: astunparse>=1.6.0 in c:\\users\\vishe\\appdata\\local\\programs\\python\\python311\\lib\\site-packages (from tensorflow-intel==2.17.0->tensorflow) (1.6.3)\n",
      "Requirement already satisfied: flatbuffers>=24.3.25 in c:\\users\\vishe\\appdata\\local\\programs\\python\\python311\\lib\\site-packages (from tensorflow-intel==2.17.0->tensorflow) (24.3.25)\n",
      "Requirement already satisfied: gast!=0.5.0,!=0.5.1,!=0.5.2,>=0.2.1 in c:\\users\\vishe\\appdata\\local\\programs\\python\\python311\\lib\\site-packages (from tensorflow-intel==2.17.0->tensorflow) (0.6.0)\n",
      "Requirement already satisfied: google-pasta>=0.1.1 in c:\\users\\vishe\\appdata\\local\\programs\\python\\python311\\lib\\site-packages (from tensorflow-intel==2.17.0->tensorflow) (0.2.0)\n",
      "Requirement already satisfied: h5py>=3.10.0 in c:\\users\\vishe\\appdata\\local\\programs\\python\\python311\\lib\\site-packages (from tensorflow-intel==2.17.0->tensorflow) (3.11.0)\n",
      "Requirement already satisfied: libclang>=13.0.0 in c:\\users\\vishe\\appdata\\local\\programs\\python\\python311\\lib\\site-packages (from tensorflow-intel==2.17.0->tensorflow) (18.1.1)\n",
      "Requirement already satisfied: ml-dtypes<0.5.0,>=0.3.1 in c:\\users\\vishe\\appdata\\local\\programs\\python\\python311\\lib\\site-packages (from tensorflow-intel==2.17.0->tensorflow) (0.4.1)\n",
      "Requirement already satisfied: opt-einsum>=2.3.2 in c:\\users\\vishe\\appdata\\local\\programs\\python\\python311\\lib\\site-packages (from tensorflow-intel==2.17.0->tensorflow) (3.3.0)\n",
      "Requirement already satisfied: packaging in c:\\users\\vishe\\appdata\\local\\programs\\python\\python311\\lib\\site-packages (from tensorflow-intel==2.17.0->tensorflow) (23.2)\n",
      "Requirement already satisfied: protobuf!=4.21.0,!=4.21.1,!=4.21.2,!=4.21.3,!=4.21.4,!=4.21.5,<5.0.0dev,>=3.20.3 in c:\\users\\vishe\\appdata\\local\\programs\\python\\python311\\lib\\site-packages (from tensorflow-intel==2.17.0->tensorflow) (4.25.5)\n",
      "Requirement already satisfied: requests<3,>=2.21.0 in c:\\users\\vishe\\appdata\\local\\programs\\python\\python311\\lib\\site-packages (from tensorflow-intel==2.17.0->tensorflow) (2.31.0)\n",
      "Requirement already satisfied: setuptools in c:\\users\\vishe\\appdata\\local\\programs\\python\\python311\\lib\\site-packages (from tensorflow-intel==2.17.0->tensorflow) (65.5.0)\n",
      "Requirement already satisfied: six>=1.12.0 in c:\\users\\vishe\\appdata\\local\\programs\\python\\python311\\lib\\site-packages (from tensorflow-intel==2.17.0->tensorflow) (1.16.0)\n",
      "Requirement already satisfied: termcolor>=1.1.0 in c:\\users\\vishe\\appdata\\local\\programs\\python\\python311\\lib\\site-packages (from tensorflow-intel==2.17.0->tensorflow) (2.4.0)\n",
      "Requirement already satisfied: typing-extensions>=3.6.6 in c:\\users\\vishe\\appdata\\local\\programs\\python\\python311\\lib\\site-packages (from tensorflow-intel==2.17.0->tensorflow) (4.12.2)\n",
      "Requirement already satisfied: wrapt>=1.11.0 in c:\\users\\vishe\\appdata\\local\\programs\\python\\python311\\lib\\site-packages (from tensorflow-intel==2.17.0->tensorflow) (1.16.0)\n",
      "Requirement already satisfied: grpcio<2.0,>=1.24.3 in c:\\users\\vishe\\appdata\\local\\programs\\python\\python311\\lib\\site-packages (from tensorflow-intel==2.17.0->tensorflow) (1.66.1)\n",
      "Requirement already satisfied: tensorboard<2.18,>=2.17 in c:\\users\\vishe\\appdata\\local\\programs\\python\\python311\\lib\\site-packages (from tensorflow-intel==2.17.0->tensorflow) (2.17.1)\n",
      "Requirement already satisfied: keras>=3.2.0 in c:\\users\\vishe\\appdata\\local\\programs\\python\\python311\\lib\\site-packages (from tensorflow-intel==2.17.0->tensorflow) (3.5.0)\n",
      "Requirement already satisfied: tensorflow-io-gcs-filesystem>=0.23.1 in c:\\users\\vishe\\appdata\\local\\programs\\python\\python311\\lib\\site-packages (from tensorflow-intel==2.17.0->tensorflow) (0.31.0)\n",
      "Requirement already satisfied: numpy<2.0.0,>=1.23.5 in c:\\users\\vishe\\appdata\\local\\programs\\python\\python311\\lib\\site-packages (from tensorflow-intel==2.17.0->tensorflow) (1.26.4)\n",
      "Requirement already satisfied: wheel<1.0,>=0.23.0 in c:\\users\\vishe\\appdata\\local\\programs\\python\\python311\\lib\\site-packages (from astunparse>=1.6.0->tensorflow-intel==2.17.0->tensorflow) (0.44.0)\n",
      "Requirement already satisfied: rich in c:\\users\\vishe\\appdata\\local\\programs\\python\\python311\\lib\\site-packages (from keras>=3.2.0->tensorflow-intel==2.17.0->tensorflow) (13.8.1)\n",
      "Requirement already satisfied: namex in c:\\users\\vishe\\appdata\\local\\programs\\python\\python311\\lib\\site-packages (from keras>=3.2.0->tensorflow-intel==2.17.0->tensorflow) (0.0.8)\n",
      "Requirement already satisfied: optree in c:\\users\\vishe\\appdata\\local\\programs\\python\\python311\\lib\\site-packages (from keras>=3.2.0->tensorflow-intel==2.17.0->tensorflow) (0.12.1)\n",
      "Requirement already satisfied: charset-normalizer<4,>=2 in c:\\users\\vishe\\appdata\\local\\programs\\python\\python311\\lib\\site-packages (from requests<3,>=2.21.0->tensorflow-intel==2.17.0->tensorflow) (3.3.2)\n",
      "Requirement already satisfied: idna<4,>=2.5 in c:\\users\\vishe\\appdata\\local\\programs\\python\\python311\\lib\\site-packages (from requests<3,>=2.21.0->tensorflow-intel==2.17.0->tensorflow) (3.6)\n",
      "Requirement already satisfied: urllib3<3,>=1.21.1 in c:\\users\\vishe\\appdata\\local\\programs\\python\\python311\\lib\\site-packages (from requests<3,>=2.21.0->tensorflow-intel==2.17.0->tensorflow) (2.2.1)\n",
      "Requirement already satisfied: certifi>=2017.4.17 in c:\\users\\vishe\\appdata\\local\\programs\\python\\python311\\lib\\site-packages (from requests<3,>=2.21.0->tensorflow-intel==2.17.0->tensorflow) (2024.2.2)\n",
      "Requirement already satisfied: markdown>=2.6.8 in c:\\users\\vishe\\appdata\\local\\programs\\python\\python311\\lib\\site-packages (from tensorboard<2.18,>=2.17->tensorflow-intel==2.17.0->tensorflow) (3.7)\n",
      "Requirement already satisfied: tensorboard-data-server<0.8.0,>=0.7.0 in c:\\users\\vishe\\appdata\\local\\programs\\python\\python311\\lib\\site-packages (from tensorboard<2.18,>=2.17->tensorflow-intel==2.17.0->tensorflow) (0.7.2)\n",
      "Requirement already satisfied: werkzeug>=1.0.1 in c:\\users\\vishe\\appdata\\local\\programs\\python\\python311\\lib\\site-packages (from tensorboard<2.18,>=2.17->tensorflow-intel==2.17.0->tensorflow) (3.0.4)\n",
      "Requirement already satisfied: MarkupSafe>=2.1.1 in c:\\users\\vishe\\appdata\\local\\programs\\python\\python311\\lib\\site-packages (from werkzeug>=1.0.1->tensorboard<2.18,>=2.17->tensorflow-intel==2.17.0->tensorflow) (2.1.5)\n",
      "Requirement already satisfied: markdown-it-py>=2.2.0 in c:\\users\\vishe\\appdata\\local\\programs\\python\\python311\\lib\\site-packages (from rich->keras>=3.2.0->tensorflow-intel==2.17.0->tensorflow) (3.0.0)\n",
      "Requirement already satisfied: pygments<3.0.0,>=2.13.0 in c:\\users\\vishe\\appdata\\local\\programs\\python\\python311\\lib\\site-packages (from rich->keras>=3.2.0->tensorflow-intel==2.17.0->tensorflow) (2.17.2)\n",
      "Requirement already satisfied: mdurl~=0.1 in c:\\users\\vishe\\appdata\\local\\programs\\python\\python311\\lib\\site-packages (from markdown-it-py>=2.2.0->rich->keras>=3.2.0->tensorflow-intel==2.17.0->tensorflow) (0.1.2)\n",
      "Note: you may need to restart the kernel to use updated packages.\n"
     ]
    },
    {
     "name": "stderr",
     "output_type": "stream",
     "text": [
      "\n",
      "[notice] A new release of pip is available: 24.2 -> 24.3.1\n",
      "[notice] To update, run: python.exe -m pip install --upgrade pip\n"
     ]
    }
   ],
   "source": [
    "%pip install tensorflow"
   ]
  },
  {
   "cell_type": "code",
   "execution_count": 2,
   "metadata": {},
   "outputs": [
    {
     "name": "stdout",
     "output_type": "stream",
     "text": [
      "^C\n",
      "Note: you may need to restart the kernel to use updated packages.\n"
     ]
    }
   ],
   "source": [
    "%pip install tensorflow --upgrade\n"
   ]
  },
  {
   "cell_type": "code",
   "execution_count": null,
   "metadata": {},
   "outputs": [
    {
     "name": "stdout",
     "output_type": "stream",
     "text": [
      "Requirement already satisfied: tensorflow in c:\\users\\vishe\\appdata\\local\\programs\\python\\python311\\lib\\site-packages (2.17.0)\n",
      "Collecting tensorflow\n",
      "  Downloading tensorflow-2.18.0-cp311-cp311-win_amd64.whl.metadata (3.3 kB)\n",
      "Collecting tensorflow-intel==2.18.0 (from tensorflow)\n",
      "  Downloading tensorflow_intel-2.18.0-cp311-cp311-win_amd64.whl.metadata (4.9 kB)\n",
      "Requirement already satisfied: absl-py>=1.0.0 in c:\\users\\vishe\\appdata\\local\\programs\\python\\python311\\lib\\site-packages (from tensorflow-intel==2.18.0->tensorflow) (2.1.0)\n",
      "Requirement already satisfied: astunparse>=1.6.0 in c:\\users\\vishe\\appdata\\local\\programs\\python\\python311\\lib\\site-packages (from tensorflow-intel==2.18.0->tensorflow) (1.6.3)\n",
      "Requirement already satisfied: flatbuffers>=24.3.25 in c:\\users\\vishe\\appdata\\local\\programs\\python\\python311\\lib\\site-packages (from tensorflow-intel==2.18.0->tensorflow) (24.3.25)\n",
      "Requirement already satisfied: gast!=0.5.0,!=0.5.1,!=0.5.2,>=0.2.1 in c:\\users\\vishe\\appdata\\local\\programs\\python\\python311\\lib\\site-packages (from tensorflow-intel==2.18.0->tensorflow) (0.6.0)\n",
      "Requirement already satisfied: google-pasta>=0.1.1 in c:\\users\\vishe\\appdata\\local\\programs\\python\\python311\\lib\\site-packages (from tensorflow-intel==2.18.0->tensorflow) (0.2.0)\n",
      "Requirement already satisfied: libclang>=13.0.0 in c:\\users\\vishe\\appdata\\local\\programs\\python\\python311\\lib\\site-packages (from tensorflow-intel==2.18.0->tensorflow) (18.1.1)\n",
      "Requirement already satisfied: opt-einsum>=2.3.2 in c:\\users\\vishe\\appdata\\local\\programs\\python\\python311\\lib\\site-packages (from tensorflow-intel==2.18.0->tensorflow) (3.3.0)\n",
      "Requirement already satisfied: packaging in c:\\users\\vishe\\appdata\\local\\programs\\python\\python311\\lib\\site-packages (from tensorflow-intel==2.18.0->tensorflow) (23.2)\n",
      "Requirement already satisfied: protobuf!=4.21.0,!=4.21.1,!=4.21.2,!=4.21.3,!=4.21.4,!=4.21.5,<6.0.0dev,>=3.20.3 in c:\\users\\vishe\\appdata\\local\\programs\\python\\python311\\lib\\site-packages (from tensorflow-intel==2.18.0->tensorflow) (4.25.5)\n",
      "Requirement already satisfied: requests<3,>=2.21.0 in c:\\users\\vishe\\appdata\\local\\programs\\python\\python311\\lib\\site-packages (from tensorflow-intel==2.18.0->tensorflow) (2.31.0)\n",
      "Requirement already satisfied: setuptools in c:\\users\\vishe\\appdata\\local\\programs\\python\\python311\\lib\\site-packages (from tensorflow-intel==2.18.0->tensorflow) (65.5.0)\n",
      "Requirement already satisfied: six>=1.12.0 in c:\\users\\vishe\\appdata\\local\\programs\\python\\python311\\lib\\site-packages (from tensorflow-intel==2.18.0->tensorflow) (1.16.0)\n",
      "Requirement already satisfied: termcolor>=1.1.0 in c:\\users\\vishe\\appdata\\local\\programs\\python\\python311\\lib\\site-packages (from tensorflow-intel==2.18.0->tensorflow) (2.4.0)\n",
      "Requirement already satisfied: typing-extensions>=3.6.6 in c:\\users\\vishe\\appdata\\local\\programs\\python\\python311\\lib\\site-packages (from tensorflow-intel==2.18.0->tensorflow) (4.12.2)\n",
      "Requirement already satisfied: wrapt>=1.11.0 in c:\\users\\vishe\\appdata\\local\\programs\\python\\python311\\lib\\site-packages (from tensorflow-intel==2.18.0->tensorflow) (1.16.0)\n",
      "Requirement already satisfied: grpcio<2.0,>=1.24.3 in c:\\users\\vishe\\appdata\\local\\programs\\python\\python311\\lib\\site-packages (from tensorflow-intel==2.18.0->tensorflow) (1.66.1)\n",
      "Collecting tensorboard<2.19,>=2.18 (from tensorflow-intel==2.18.0->tensorflow)\n",
      "  Downloading tensorboard-2.18.0-py3-none-any.whl.metadata (1.6 kB)\n",
      "Requirement already satisfied: keras>=3.5.0 in c:\\users\\vishe\\appdata\\local\\programs\\python\\python311\\lib\\site-packages (from tensorflow-intel==2.18.0->tensorflow) (3.5.0)\n",
      "Requirement already satisfied: numpy<2.1.0,>=1.26.0 in c:\\users\\vishe\\appdata\\local\\programs\\python\\python311\\lib\\site-packages (from tensorflow-intel==2.18.0->tensorflow) (1.26.4)\n",
      "Requirement already satisfied: h5py>=3.11.0 in c:\\users\\vishe\\appdata\\local\\programs\\python\\python311\\lib\\site-packages (from tensorflow-intel==2.18.0->tensorflow) (3.11.0)\n",
      "Requirement already satisfied: ml-dtypes<0.5.0,>=0.4.0 in c:\\users\\vishe\\appdata\\local\\programs\\python\\python311\\lib\\site-packages (from tensorflow-intel==2.18.0->tensorflow) (0.4.1)\n",
      "Requirement already satisfied: tensorflow-io-gcs-filesystem>=0.23.1 in c:\\users\\vishe\\appdata\\local\\programs\\python\\python311\\lib\\site-packages (from tensorflow-intel==2.18.0->tensorflow) (0.31.0)\n",
      "Requirement already satisfied: wheel<1.0,>=0.23.0 in c:\\users\\vishe\\appdata\\local\\programs\\python\\python311\\lib\\site-packages (from astunparse>=1.6.0->tensorflow-intel==2.18.0->tensorflow) (0.44.0)\n",
      "Requirement already satisfied: rich in c:\\users\\vishe\\appdata\\local\\programs\\python\\python311\\lib\\site-packages (from keras>=3.5.0->tensorflow-intel==2.18.0->tensorflow) (13.8.1)\n",
      "Requirement already satisfied: namex in c:\\users\\vishe\\appdata\\local\\programs\\python\\python311\\lib\\site-packages (from keras>=3.5.0->tensorflow-intel==2.18.0->tensorflow) (0.0.8)\n",
      "Requirement already satisfied: optree in c:\\users\\vishe\\appdata\\local\\programs\\python\\python311\\lib\\site-packages (from keras>=3.5.0->tensorflow-intel==2.18.0->tensorflow) (0.12.1)\n",
      "Requirement already satisfied: charset-normalizer<4,>=2 in c:\\users\\vishe\\appdata\\local\\programs\\python\\python311\\lib\\site-packages (from requests<3,>=2.21.0->tensorflow-intel==2.18.0->tensorflow) (3.3.2)\n",
      "Requirement already satisfied: idna<4,>=2.5 in c:\\users\\vishe\\appdata\\local\\programs\\python\\python311\\lib\\site-packages (from requests<3,>=2.21.0->tensorflow-intel==2.18.0->tensorflow) (3.6)\n",
      "Requirement already satisfied: urllib3<3,>=1.21.1 in c:\\users\\vishe\\appdata\\local\\programs\\python\\python311\\lib\\site-packages (from requests<3,>=2.21.0->tensorflow-intel==2.18.0->tensorflow) (2.2.1)\n",
      "Requirement already satisfied: certifi>=2017.4.17 in c:\\users\\vishe\\appdata\\local\\programs\\python\\python311\\lib\\site-packages (from requests<3,>=2.21.0->tensorflow-intel==2.18.0->tensorflow) (2024.2.2)\n",
      "Requirement already satisfied: markdown>=2.6.8 in c:\\users\\vishe\\appdata\\local\\programs\\python\\python311\\lib\\site-packages (from tensorboard<2.19,>=2.18->tensorflow-intel==2.18.0->tensorflow) (3.7)\n",
      "Requirement already satisfied: tensorboard-data-server<0.8.0,>=0.7.0 in c:\\users\\vishe\\appdata\\local\\programs\\python\\python311\\lib\\site-packages (from tensorboard<2.19,>=2.18->tensorflow-intel==2.18.0->tensorflow) (0.7.2)\n",
      "Requirement already satisfied: werkzeug>=1.0.1 in c:\\users\\vishe\\appdata\\local\\programs\\python\\python311\\lib\\site-packages (from tensorboard<2.19,>=2.18->tensorflow-intel==2.18.0->tensorflow) (3.0.4)\n",
      "Requirement already satisfied: MarkupSafe>=2.1.1 in c:\\users\\vishe\\appdata\\local\\programs\\python\\python311\\lib\\site-packages (from werkzeug>=1.0.1->tensorboard<2.19,>=2.18->tensorflow-intel==2.18.0->tensorflow) (2.1.5)\n",
      "Requirement already satisfied: markdown-it-py>=2.2.0 in c:\\users\\vishe\\appdata\\local\\programs\\python\\python311\\lib\\site-packages (from rich->keras>=3.5.0->tensorflow-intel==2.18.0->tensorflow) (3.0.0)\n",
      "Requirement already satisfied: pygments<3.0.0,>=2.13.0 in c:\\users\\vishe\\appdata\\local\\programs\\python\\python311\\lib\\site-packages (from rich->keras>=3.5.0->tensorflow-intel==2.18.0->tensorflow) (2.17.2)\n",
      "Requirement already satisfied: mdurl~=0.1 in c:\\users\\vishe\\appdata\\local\\programs\\python\\python311\\lib\\site-packages (from markdown-it-py>=2.2.0->rich->keras>=3.5.0->tensorflow-intel==2.18.0->tensorflow) (0.1.2)\n",
      "Downloading tensorflow-2.18.0-cp311-cp311-win_amd64.whl (7.5 kB)\n",
      "Downloading tensorflow_intel-2.18.0-cp311-cp311-win_amd64.whl (390.2 MB)\n",
      "   ---------------------------------------- 0.0/390.2 MB ? eta -:--:--\n",
      "   ---------------------------------------- 1.3/390.2 MB 6.7 MB/s eta 0:00:59\n",
      "   ---------------------------------------- 2.6/390.2 MB 6.3 MB/s eta 0:01:02\n",
      "   ---------------------------------------- 3.7/390.2 MB 5.9 MB/s eta 0:01:06\n",
      "    --------------------------------------- 5.0/390.2 MB 5.9 MB/s eta 0:01:06\n",
      "    --------------------------------------- 6.0/390.2 MB 5.6 MB/s eta 0:01:09\n",
      "    --------------------------------------- 7.1/390.2 MB 5.6 MB/s eta 0:01:09\n",
      "    --------------------------------------- 8.4/390.2 MB 5.7 MB/s eta 0:01:08\n",
      "   - -------------------------------------- 10.0/390.2 MB 5.7 MB/s eta 0:01:07\n",
      "   - -------------------------------------- 11.0/390.2 MB 5.7 MB/s eta 0:01:07\n",
      "   - -------------------------------------- 12.1/390.2 MB 5.7 MB/s eta 0:01:07\n",
      "   - -------------------------------------- 13.1/390.2 MB 5.6 MB/s eta 0:01:07\n",
      "   - -------------------------------------- 14.2/390.2 MB 5.6 MB/s eta 0:01:08\n",
      "   - -------------------------------------- 15.5/390.2 MB 5.6 MB/s eta 0:01:08\n",
      "   - -------------------------------------- 16.3/390.2 MB 5.6 MB/s eta 0:01:07\n",
      "   - -------------------------------------- 17.6/390.2 MB 5.5 MB/s eta 0:01:09\n",
      "   - -------------------------------------- 18.9/390.2 MB 5.5 MB/s eta 0:01:08\n",
      "   -- ------------------------------------- 20.2/390.2 MB 5.5 MB/s eta 0:01:08\n",
      "   -- ------------------------------------- 21.5/390.2 MB 5.6 MB/s eta 0:01:07\n",
      "   -- ------------------------------------- 22.8/390.2 MB 5.6 MB/s eta 0:01:06\n",
      "   -- ------------------------------------- 23.9/390.2 MB 5.6 MB/s eta 0:01:06\n",
      "   -- ------------------------------------- 24.9/390.2 MB 5.6 MB/s eta 0:01:06\n",
      "   -- ------------------------------------- 26.0/390.2 MB 5.5 MB/s eta 0:01:07\n",
      "   -- ------------------------------------- 26.7/390.2 MB 5.5 MB/s eta 0:01:07\n",
      "   -- ------------------------------------- 28.0/390.2 MB 5.5 MB/s eta 0:01:06\n",
      "   --- ------------------------------------ 29.4/390.2 MB 5.5 MB/s eta 0:01:06\n",
      "   --- ------------------------------------ 30.7/390.2 MB 5.6 MB/s eta 0:01:05\n",
      "   --- ------------------------------------ 32.0/390.2 MB 5.6 MB/s eta 0:01:05\n",
      "   --- ------------------------------------ 33.3/390.2 MB 5.6 MB/s eta 0:01:04\n",
      "   --- ------------------------------------ 34.3/390.2 MB 5.5 MB/s eta 0:01:05\n",
      "   --- ------------------------------------ 35.4/390.2 MB 5.5 MB/s eta 0:01:05\n",
      "   --- ------------------------------------ 36.4/390.2 MB 5.5 MB/s eta 0:01:04\n",
      "   --- ------------------------------------ 37.7/390.2 MB 5.6 MB/s eta 0:01:04\n",
      "   --- ------------------------------------ 38.5/390.2 MB 5.5 MB/s eta 0:01:04\n",
      "   ---- ----------------------------------- 39.3/390.2 MB 5.5 MB/s eta 0:01:05\n",
      "   ---- ----------------------------------- 40.1/390.2 MB 5.4 MB/s eta 0:01:05\n",
      "   ---- ----------------------------------- 40.9/390.2 MB 5.4 MB/s eta 0:01:05\n",
      "   ---- ----------------------------------- 42.2/390.2 MB 5.4 MB/s eta 0:01:05\n",
      "   ---- ----------------------------------- 43.3/390.2 MB 5.4 MB/s eta 0:01:05\n",
      "   ---- ----------------------------------- 44.6/390.2 MB 5.4 MB/s eta 0:01:05\n",
      "   ---- ----------------------------------- 45.9/390.2 MB 5.4 MB/s eta 0:01:04\n",
      "   ---- ----------------------------------- 47.2/390.2 MB 5.4 MB/s eta 0:01:04\n",
      "   ---- ----------------------------------- 48.2/390.2 MB 5.4 MB/s eta 0:01:04\n",
      "   ----- ---------------------------------- 49.0/390.2 MB 5.4 MB/s eta 0:01:04\n",
      "   ----- ---------------------------------- 50.1/390.2 MB 5.4 MB/s eta 0:01:04\n",
      "   ----- ---------------------------------- 51.4/390.2 MB 5.4 MB/s eta 0:01:04\n",
      "   ----- ---------------------------------- 52.7/390.2 MB 5.4 MB/s eta 0:01:03\n",
      "   ----- ---------------------------------- 54.0/390.2 MB 5.4 MB/s eta 0:01:03\n",
      "   ----- ---------------------------------- 55.3/390.2 MB 5.4 MB/s eta 0:01:02\n",
      "   ----- ---------------------------------- 56.4/390.2 MB 5.4 MB/s eta 0:01:02\n",
      "   ----- ---------------------------------- 57.1/390.2 MB 5.4 MB/s eta 0:01:02\n",
      "   ----- ---------------------------------- 57.4/390.2 MB 5.4 MB/s eta 0:01:03\n",
      "   ----- ---------------------------------- 57.4/390.2 MB 5.4 MB/s eta 0:01:03\n",
      "   ----- ---------------------------------- 57.4/390.2 MB 5.4 MB/s eta 0:01:03\n",
      "   ----- ---------------------------------- 57.7/390.2 MB 5.1 MB/s eta 0:01:06\n",
      "   ----- ---------------------------------- 57.9/390.2 MB 5.0 MB/s eta 0:01:07\n",
      "   ----- ---------------------------------- 58.2/390.2 MB 4.9 MB/s eta 0:01:08\n",
      "   ------ --------------------------------- 58.7/390.2 MB 4.9 MB/s eta 0:01:08\n",
      "   ------ --------------------------------- 59.5/390.2 MB 4.8 MB/s eta 0:01:09\n",
      "   ------ --------------------------------- 60.6/390.2 MB 4.8 MB/s eta 0:01:09\n",
      "   ------ --------------------------------- 61.6/390.2 MB 4.8 MB/s eta 0:01:08\n",
      "   ------ --------------------------------- 62.7/390.2 MB 4.8 MB/s eta 0:01:08\n",
      "   ------ --------------------------------- 64.2/390.2 MB 4.9 MB/s eta 0:01:07\n",
      "   ------ --------------------------------- 65.3/390.2 MB 4.9 MB/s eta 0:01:07\n",
      "   ------ --------------------------------- 66.6/390.2 MB 4.9 MB/s eta 0:01:06\n",
      "   ------ --------------------------------- 67.9/390.2 MB 4.9 MB/s eta 0:01:06\n",
      "   ------- -------------------------------- 68.7/390.2 MB 4.9 MB/s eta 0:01:06\n",
      "   ------- -------------------------------- 69.7/390.2 MB 4.9 MB/s eta 0:01:06\n",
      "   ------- -------------------------------- 70.8/390.2 MB 4.9 MB/s eta 0:01:06\n",
      "   ------- -------------------------------- 72.1/390.2 MB 4.9 MB/s eta 0:01:05\n",
      "   ------- -------------------------------- 73.4/390.2 MB 4.9 MB/s eta 0:01:05\n",
      "   ------- -------------------------------- 74.7/390.2 MB 5.0 MB/s eta 0:01:04\n",
      "   ------- -------------------------------- 75.8/390.2 MB 5.0 MB/s eta 0:01:04\n",
      "   ------- -------------------------------- 77.1/390.2 MB 5.0 MB/s eta 0:01:03\n",
      "   -------- ------------------------------- 78.1/390.2 MB 5.0 MB/s eta 0:01:03\n",
      "   -------- ------------------------------- 79.2/390.2 MB 5.0 MB/s eta 0:01:03\n",
      "   -------- ------------------------------- 80.5/390.2 MB 5.0 MB/s eta 0:01:03\n",
      "   -------- ------------------------------- 81.8/390.2 MB 5.0 MB/s eta 0:01:02\n",
      "   -------- ------------------------------- 83.1/390.2 MB 5.0 MB/s eta 0:01:02\n",
      "   -------- ------------------------------- 84.1/390.2 MB 5.0 MB/s eta 0:01:02\n",
      "   -------- ------------------------------- 85.2/390.2 MB 5.0 MB/s eta 0:01:01\n",
      "   -------- ------------------------------- 86.5/390.2 MB 5.0 MB/s eta 0:01:01\n",
      "   --------- ------------------------------ 87.8/390.2 MB 5.0 MB/s eta 0:01:00\n",
      "   --------- ------------------------------ 88.9/390.2 MB 5.0 MB/s eta 0:01:00\n",
      "   --------- ------------------------------ 89.9/390.2 MB 5.0 MB/s eta 0:01:00\n",
      "   --------- ------------------------------ 91.0/390.2 MB 5.0 MB/s eta 0:01:00\n",
      "   --------- ------------------------------ 92.3/390.2 MB 5.0 MB/s eta 0:01:00\n",
      "   --------- ------------------------------ 93.3/390.2 MB 5.1 MB/s eta 0:00:59\n",
      "   --------- ------------------------------ 94.9/390.2 MB 5.1 MB/s eta 0:00:59\n",
      "   --------- ------------------------------ 95.9/390.2 MB 5.1 MB/s eta 0:00:58\n",
      "   --------- ------------------------------ 97.0/390.2 MB 5.1 MB/s eta 0:00:58\n",
      "   ---------- ----------------------------- 97.8/390.2 MB 5.1 MB/s eta 0:00:58\n",
      "   ---------- ----------------------------- 98.6/390.2 MB 5.1 MB/s eta 0:00:58\n",
      "   ---------- ----------------------------- 99.4/390.2 MB 5.0 MB/s eta 0:00:58\n",
      "   ---------- ----------------------------- 100.4/390.2 MB 5.0 MB/s eta 0:00:58\n",
      "   ---------- ----------------------------- 101.7/390.2 MB 5.0 MB/s eta 0:00:58\n",
      "   ---------- ----------------------------- 103.0/390.2 MB 5.1 MB/s eta 0:00:57\n",
      "   ---------- ----------------------------- 104.3/390.2 MB 5.1 MB/s eta 0:00:57\n",
      "   ---------- ----------------------------- 105.6/390.2 MB 5.1 MB/s eta 0:00:57\n",
      "   ---------- ----------------------------- 106.7/390.2 MB 5.1 MB/s eta 0:00:56\n",
      "   ----------- ---------------------------- 108.0/390.2 MB 5.1 MB/s eta 0:00:56\n",
      "   ----------- ---------------------------- 109.1/390.2 MB 5.1 MB/s eta 0:00:56\n",
      "   ----------- ---------------------------- 110.4/390.2 MB 5.1 MB/s eta 0:00:55\n",
      "   ----------- ---------------------------- 111.1/390.2 MB 5.1 MB/s eta 0:00:55\n",
      "   ----------- ---------------------------- 112.2/390.2 MB 5.1 MB/s eta 0:00:55\n",
      "   ----------- ---------------------------- 113.2/390.2 MB 5.1 MB/s eta 0:00:55\n",
      "   ----------- ---------------------------- 114.6/390.2 MB 5.1 MB/s eta 0:00:55\n",
      "   ----------- ---------------------------- 116.1/390.2 MB 5.1 MB/s eta 0:00:54\n",
      "   ------------ --------------------------- 117.2/390.2 MB 5.1 MB/s eta 0:00:54\n",
      "   ------------ --------------------------- 118.5/390.2 MB 5.1 MB/s eta 0:00:54\n",
      "   ------------ --------------------------- 119.5/390.2 MB 5.1 MB/s eta 0:00:53\n",
      "   ------------ --------------------------- 120.1/390.2 MB 5.1 MB/s eta 0:00:53\n",
      "   ------------ --------------------------- 120.6/390.2 MB 5.1 MB/s eta 0:00:53\n",
      "   ------------ --------------------------- 121.4/390.2 MB 5.1 MB/s eta 0:00:53\n",
      "   ------------ --------------------------- 122.4/390.2 MB 5.1 MB/s eta 0:00:53\n",
      "   ------------ --------------------------- 123.7/390.2 MB 5.1 MB/s eta 0:00:53\n",
      "   ------------ --------------------------- 124.8/390.2 MB 5.1 MB/s eta 0:00:53\n",
      "   ------------ --------------------------- 126.1/390.2 MB 5.1 MB/s eta 0:00:52\n",
      "   ------------- -------------------------- 127.4/390.2 MB 5.1 MB/s eta 0:00:52\n",
      "   ------------- -------------------------- 128.7/390.2 MB 5.1 MB/s eta 0:00:52\n",
      "   ------------- -------------------------- 129.5/390.2 MB 5.1 MB/s eta 0:00:52\n",
      "   ------------- -------------------------- 130.5/390.2 MB 5.1 MB/s eta 0:00:51\n",
      "   ------------- -------------------------- 131.6/390.2 MB 5.1 MB/s eta 0:00:51\n",
      "   ------------- -------------------------- 132.9/390.2 MB 5.1 MB/s eta 0:00:51\n",
      "   ------------- -------------------------- 134.0/390.2 MB 5.1 MB/s eta 0:00:51\n",
      "   ------------- -------------------------- 135.8/390.2 MB 5.1 MB/s eta 0:00:50\n",
      "   -------------- ------------------------- 136.8/390.2 MB 5.1 MB/s eta 0:00:50\n",
      "   -------------- ------------------------- 137.6/390.2 MB 5.1 MB/s eta 0:00:50\n",
      "   -------------- ------------------------- 138.9/390.2 MB 5.1 MB/s eta 0:00:50\n",
      "   -------------- ------------------------- 140.2/390.2 MB 5.1 MB/s eta 0:00:49\n",
      "   -------------- ------------------------- 141.6/390.2 MB 5.1 MB/s eta 0:00:49\n",
      "   -------------- ------------------------- 142.9/390.2 MB 5.1 MB/s eta 0:00:49\n",
      "   -------------- ------------------------- 143.9/390.2 MB 5.1 MB/s eta 0:00:48\n",
      "   -------------- ------------------------- 145.0/390.2 MB 5.1 MB/s eta 0:00:48\n",
      "   -------------- ------------------------- 146.3/390.2 MB 5.2 MB/s eta 0:00:48\n",
      "   --------------- ------------------------ 147.6/390.2 MB 5.2 MB/s eta 0:00:48\n",
      "   --------------- ------------------------ 148.9/390.2 MB 5.2 MB/s eta 0:00:47\n",
      "   --------------- ------------------------ 149.7/390.2 MB 5.2 MB/s eta 0:00:47\n",
      "   --------------- ------------------------ 150.2/390.2 MB 5.1 MB/s eta 0:00:47\n",
      "   --------------- ------------------------ 151.0/390.2 MB 5.1 MB/s eta 0:00:47\n",
      "   --------------- ------------------------ 151.8/390.2 MB 5.1 MB/s eta 0:00:47\n",
      "   --------------- ------------------------ 152.8/390.2 MB 5.1 MB/s eta 0:00:47\n",
      "   --------------- ------------------------ 153.9/390.2 MB 5.1 MB/s eta 0:00:47\n",
      "   --------------- ------------------------ 155.5/390.2 MB 5.1 MB/s eta 0:00:46\n",
      "   ---------------- ----------------------- 156.8/390.2 MB 5.1 MB/s eta 0:00:46\n",
      "   ---------------- ----------------------- 157.8/390.2 MB 5.1 MB/s eta 0:00:46\n",
      "   ---------------- ----------------------- 158.9/390.2 MB 5.1 MB/s eta 0:00:46\n",
      "   ---------------- ----------------------- 159.9/390.2 MB 5.1 MB/s eta 0:00:46\n",
      "   ---------------- ----------------------- 161.0/390.2 MB 5.1 MB/s eta 0:00:45\n",
      "   ---------------- ----------------------- 162.3/390.2 MB 5.1 MB/s eta 0:00:45\n",
      "   ---------------- ----------------------- 163.6/390.2 MB 5.1 MB/s eta 0:00:45\n",
      "   ---------------- ----------------------- 164.9/390.2 MB 5.1 MB/s eta 0:00:45\n",
      "   ----------------- ---------------------- 166.2/390.2 MB 5.1 MB/s eta 0:00:44\n",
      "   ----------------- ---------------------- 167.2/390.2 MB 5.1 MB/s eta 0:00:44\n",
      "   ----------------- ---------------------- 168.0/390.2 MB 5.1 MB/s eta 0:00:44\n",
      "   ----------------- ---------------------- 169.3/390.2 MB 5.1 MB/s eta 0:00:44\n",
      "   ----------------- ---------------------- 170.7/390.2 MB 5.1 MB/s eta 0:00:43\n",
      "   ----------------- ---------------------- 171.7/390.2 MB 5.1 MB/s eta 0:00:43\n",
      "   ----------------- ---------------------- 172.8/390.2 MB 5.1 MB/s eta 0:00:43\n",
      "   ----------------- ---------------------- 174.1/390.2 MB 5.1 MB/s eta 0:00:43\n",
      "   ----------------- ---------------------- 174.9/390.2 MB 5.1 MB/s eta 0:00:43\n",
      "   ------------------ --------------------- 176.2/390.2 MB 5.1 MB/s eta 0:00:43\n",
      "   ------------------ --------------------- 177.5/390.2 MB 5.1 MB/s eta 0:00:42\n",
      "   ------------------ --------------------- 178.8/390.2 MB 5.1 MB/s eta 0:00:42\n",
      "   ------------------ --------------------- 180.1/390.2 MB 5.1 MB/s eta 0:00:41\n",
      "   ------------------ --------------------- 181.1/390.2 MB 5.1 MB/s eta 0:00:41\n",
      "   ------------------ --------------------- 182.5/390.2 MB 5.1 MB/s eta 0:00:41\n",
      "   ------------------ --------------------- 183.8/390.2 MB 5.1 MB/s eta 0:00:41\n",
      "   ------------------ --------------------- 184.3/390.2 MB 5.1 MB/s eta 0:00:41\n",
      "   ------------------ --------------------- 184.5/390.2 MB 5.1 MB/s eta 0:00:41\n",
      "   ------------------ --------------------- 184.5/390.2 MB 5.1 MB/s eta 0:00:41\n",
      "   ------------------ --------------------- 184.8/390.2 MB 5.0 MB/s eta 0:00:42\n",
      "   ------------------ --------------------- 184.8/390.2 MB 5.0 MB/s eta 0:00:42\n",
      "   ------------------ --------------------- 185.1/390.2 MB 4.9 MB/s eta 0:00:42\n",
      "   ------------------- -------------------- 185.6/390.2 MB 4.9 MB/s eta 0:00:42\n",
      "   ------------------- -------------------- 186.1/390.2 MB 4.9 MB/s eta 0:00:42\n",
      "   ------------------- -------------------- 186.9/390.2 MB 4.9 MB/s eta 0:00:42\n",
      "   ------------------- -------------------- 187.7/390.2 MB 4.9 MB/s eta 0:00:42\n",
      "   ------------------- -------------------- 188.7/390.2 MB 4.9 MB/s eta 0:00:42\n",
      "   ------------------- -------------------- 189.8/390.2 MB 4.9 MB/s eta 0:00:42\n",
      "   ------------------- -------------------- 190.8/390.2 MB 4.9 MB/s eta 0:00:41\n",
      "   ------------------- -------------------- 192.4/390.2 MB 4.9 MB/s eta 0:00:41\n",
      "   ------------------- -------------------- 193.7/390.2 MB 4.9 MB/s eta 0:00:41\n",
      "   ------------------- -------------------- 194.5/390.2 MB 4.9 MB/s eta 0:00:41\n",
      "   -------------------- ------------------- 195.8/390.2 MB 4.9 MB/s eta 0:00:40\n",
      "   -------------------- ------------------- 197.1/390.2 MB 4.9 MB/s eta 0:00:40\n",
      "   -------------------- ------------------- 198.4/390.2 MB 4.9 MB/s eta 0:00:40\n",
      "   -------------------- ------------------- 199.5/390.2 MB 4.9 MB/s eta 0:00:39\n",
      "   -------------------- ------------------- 200.3/390.2 MB 4.9 MB/s eta 0:00:39\n",
      "   -------------------- ------------------- 201.3/390.2 MB 4.9 MB/s eta 0:00:39\n",
      "   -------------------- ------------------- 202.6/390.2 MB 4.9 MB/s eta 0:00:39\n",
      "   -------------------- ------------------- 203.9/390.2 MB 4.9 MB/s eta 0:00:39\n",
      "   --------------------- ------------------ 205.3/390.2 MB 5.0 MB/s eta 0:00:37\n",
      "   --------------------- ------------------ 206.6/390.2 MB 5.0 MB/s eta 0:00:37\n",
      "   --------------------- ------------------ 207.6/390.2 MB 5.0 MB/s eta 0:00:37\n",
      "   --------------------- ------------------ 208.4/390.2 MB 5.0 MB/s eta 0:00:37\n",
      "   --------------------- ------------------ 209.5/390.2 MB 5.1 MB/s eta 0:00:36\n",
      "   --------------------- ------------------ 210.8/390.2 MB 5.1 MB/s eta 0:00:36\n",
      "   --------------------- ------------------ 212.3/390.2 MB 5.1 MB/s eta 0:00:35\n",
      "   --------------------- ------------------ 213.6/390.2 MB 5.1 MB/s eta 0:00:35\n",
      "   --------------------- ------------------ 214.4/390.2 MB 5.1 MB/s eta 0:00:35\n",
      "   ---------------------- ----------------- 215.5/390.2 MB 5.1 MB/s eta 0:00:35\n",
      "   ---------------------- ----------------- 216.8/390.2 MB 5.1 MB/s eta 0:00:34\n",
      "   ---------------------- ----------------- 218.1/390.2 MB 5.1 MB/s eta 0:00:34\n",
      "   ---------------------- ----------------- 219.4/390.2 MB 5.1 MB/s eta 0:00:34\n",
      "   ---------------------- ----------------- 220.7/390.2 MB 5.1 MB/s eta 0:00:33\n",
      "   ---------------------- ----------------- 221.8/390.2 MB 5.1 MB/s eta 0:00:33\n",
      "   ---------------------- ----------------- 223.1/390.2 MB 5.2 MB/s eta 0:00:33\n",
      "   ----------------------- ---------------- 224.4/390.2 MB 5.2 MB/s eta 0:00:33\n",
      "   ----------------------- ---------------- 225.2/390.2 MB 5.2 MB/s eta 0:00:33\n",
      "   ----------------------- ---------------- 226.2/390.2 MB 5.1 MB/s eta 0:00:32\n",
      "   ----------------------- ---------------- 227.5/390.2 MB 5.1 MB/s eta 0:00:32\n",
      "   ----------------------- ---------------- 228.9/390.2 MB 5.1 MB/s eta 0:00:32\n",
      "   ----------------------- ---------------- 230.2/390.2 MB 5.1 MB/s eta 0:00:32\n",
      "   ----------------------- ---------------- 231.2/390.2 MB 5.1 MB/s eta 0:00:31\n",
      "   ----------------------- ---------------- 232.5/390.2 MB 5.2 MB/s eta 0:00:31\n",
      "   ----------------------- ---------------- 233.6/390.2 MB 5.2 MB/s eta 0:00:31\n",
      "   ------------------------ --------------- 234.9/390.2 MB 5.2 MB/s eta 0:00:31\n",
      "   ------------------------ --------------- 235.9/390.2 MB 5.1 MB/s eta 0:00:30\n",
      "   ------------------------ --------------- 237.0/390.2 MB 5.1 MB/s eta 0:00:30\n",
      "   ------------------------ --------------- 238.0/390.2 MB 5.1 MB/s eta 0:00:30\n",
      "   ------------------------ --------------- 239.3/390.2 MB 5.1 MB/s eta 0:00:30\n",
      "   ------------------------ --------------- 240.9/390.2 MB 5.2 MB/s eta 0:00:29\n",
      "   ------------------------ --------------- 242.2/390.2 MB 5.2 MB/s eta 0:00:29\n",
      "   ------------------------ --------------- 243.3/390.2 MB 5.1 MB/s eta 0:00:29\n",
      "   ------------------------- -------------- 244.6/390.2 MB 5.2 MB/s eta 0:00:29\n",
      "   ------------------------- -------------- 245.6/390.2 MB 5.2 MB/s eta 0:00:28\n",
      "   ------------------------- -------------- 246.9/390.2 MB 5.2 MB/s eta 0:00:28\n",
      "   ------------------------- -------------- 248.0/390.2 MB 5.2 MB/s eta 0:00:28\n",
      "   ------------------------- -------------- 249.3/390.2 MB 5.2 MB/s eta 0:00:28\n",
      "   ------------------------- -------------- 250.3/390.2 MB 5.2 MB/s eta 0:00:28\n",
      "   ------------------------- -------------- 251.4/390.2 MB 5.2 MB/s eta 0:00:27\n",
      "   ------------------------- -------------- 252.4/390.2 MB 5.2 MB/s eta 0:00:27\n",
      "   ------------------------- -------------- 253.5/390.2 MB 5.2 MB/s eta 0:00:27\n",
      "   -------------------------- ------------- 254.8/390.2 MB 5.2 MB/s eta 0:00:27\n",
      "   -------------------------- ------------- 256.1/390.2 MB 5.2 MB/s eta 0:00:26\n",
      "   -------------------------- ------------- 257.2/390.2 MB 5.2 MB/s eta 0:00:26\n",
      "   -------------------------- ------------- 258.2/390.2 MB 5.2 MB/s eta 0:00:26\n",
      "   -------------------------- ------------- 259.3/390.2 MB 5.2 MB/s eta 0:00:26\n",
      "   -------------------------- ------------- 260.6/390.2 MB 5.2 MB/s eta 0:00:26\n",
      "   -------------------------- ------------- 262.1/390.2 MB 5.2 MB/s eta 0:00:25\n",
      "   -------------------------- ------------- 263.2/390.2 MB 5.2 MB/s eta 0:00:25\n",
      "   --------------------------- ------------ 264.2/390.2 MB 5.2 MB/s eta 0:00:25\n",
      "   --------------------------- ------------ 265.6/390.2 MB 5.2 MB/s eta 0:00:25\n",
      "   --------------------------- ------------ 266.6/390.2 MB 5.2 MB/s eta 0:00:24\n",
      "   --------------------------- ------------ 267.6/390.2 MB 5.2 MB/s eta 0:00:24\n",
      "   --------------------------- ------------ 269.0/390.2 MB 5.2 MB/s eta 0:00:24\n",
      "   --------------------------- ------------ 270.3/390.2 MB 5.2 MB/s eta 0:00:24\n",
      "   --------------------------- ------------ 271.1/390.2 MB 5.2 MB/s eta 0:00:23\n",
      "   --------------------------- ------------ 271.8/390.2 MB 5.2 MB/s eta 0:00:23\n",
      "   --------------------------- ------------ 272.9/390.2 MB 5.2 MB/s eta 0:00:23\n",
      "   ---------------------------- ----------- 274.2/390.2 MB 5.2 MB/s eta 0:00:23\n",
      "   ---------------------------- ----------- 275.5/390.2 MB 5.2 MB/s eta 0:00:23\n",
      "   ---------------------------- ----------- 276.8/390.2 MB 5.2 MB/s eta 0:00:22\n",
      "   ---------------------------- ----------- 278.4/390.2 MB 5.2 MB/s eta 0:00:22\n",
      "   ---------------------------- ----------- 279.4/390.2 MB 5.2 MB/s eta 0:00:22\n",
      "   ---------------------------- ----------- 280.5/390.2 MB 5.2 MB/s eta 0:00:21\n",
      "   ---------------------------- ----------- 281.5/390.2 MB 5.2 MB/s eta 0:00:21\n",
      "   ---------------------------- ----------- 282.9/390.2 MB 5.2 MB/s eta 0:00:21\n",
      "   ----------------------------- ---------- 284.2/390.2 MB 5.2 MB/s eta 0:00:21\n",
      "   ----------------------------- ---------- 285.2/390.2 MB 5.2 MB/s eta 0:00:21\n",
      "   ----------------------------- ---------- 286.5/390.2 MB 5.2 MB/s eta 0:00:20\n",
      "   ----------------------------- ---------- 287.8/390.2 MB 5.2 MB/s eta 0:00:20\n",
      "   ----------------------------- ---------- 288.9/390.2 MB 5.2 MB/s eta 0:00:20\n",
      "   ----------------------------- ---------- 289.7/390.2 MB 5.2 MB/s eta 0:00:20\n",
      "   ----------------------------- ---------- 291.0/390.2 MB 5.2 MB/s eta 0:00:19\n",
      "   ----------------------------- ---------- 292.6/390.2 MB 5.2 MB/s eta 0:00:19\n",
      "   ------------------------------ --------- 293.3/390.2 MB 5.2 MB/s eta 0:00:19\n",
      "   ------------------------------ --------- 294.1/390.2 MB 5.2 MB/s eta 0:00:19\n",
      "   ------------------------------ --------- 294.9/390.2 MB 5.2 MB/s eta 0:00:19\n",
      "   ------------------------------ --------- 295.7/390.2 MB 5.2 MB/s eta 0:00:19\n",
      "   ------------------------------ --------- 296.7/390.2 MB 5.2 MB/s eta 0:00:19\n",
      "   ------------------------------ --------- 298.1/390.2 MB 5.2 MB/s eta 0:00:18\n",
      "   ------------------------------ --------- 299.4/390.2 MB 5.2 MB/s eta 0:00:18\n",
      "   ------------------------------ --------- 300.9/390.2 MB 5.2 MB/s eta 0:00:18\n",
      "   ------------------------------ --------- 302.0/390.2 MB 5.2 MB/s eta 0:00:17\n",
      "   ------------------------------- -------- 303.0/390.2 MB 5.2 MB/s eta 0:00:17\n",
      "   ------------------------------- -------- 304.1/390.2 MB 5.2 MB/s eta 0:00:17\n",
      "   ------------------------------- -------- 305.4/390.2 MB 5.2 MB/s eta 0:00:17\n",
      "   ------------------------------- -------- 306.7/390.2 MB 5.2 MB/s eta 0:00:16\n",
      "   ------------------------------- -------- 308.0/390.2 MB 5.2 MB/s eta 0:00:16\n",
      "   ------------------------------- -------- 309.3/390.2 MB 5.3 MB/s eta 0:00:16\n",
      "   ------------------------------- -------- 310.4/390.2 MB 5.3 MB/s eta 0:00:16\n",
      "   ------------------------------- -------- 311.4/390.2 MB 5.3 MB/s eta 0:00:15\n",
      "   -------------------------------- ------- 312.7/390.2 MB 5.3 MB/s eta 0:00:15\n",
      "   -------------------------------- ------- 314.0/390.2 MB 5.3 MB/s eta 0:00:15\n",
      "   -------------------------------- ------- 315.4/390.2 MB 5.3 MB/s eta 0:00:15\n",
      "   -------------------------------- ------- 316.4/390.2 MB 5.3 MB/s eta 0:00:15\n",
      "   -------------------------------- ------- 317.5/390.2 MB 5.3 MB/s eta 0:00:14\n",
      "   -------------------------------- ------- 318.8/390.2 MB 5.3 MB/s eta 0:00:14\n",
      "   -------------------------------- ------- 319.8/390.2 MB 5.3 MB/s eta 0:00:14\n",
      "   -------------------------------- ------- 321.1/390.2 MB 5.3 MB/s eta 0:00:14\n",
      "   --------------------------------- ------ 322.2/390.2 MB 5.3 MB/s eta 0:00:13\n",
      "   --------------------------------- ------ 323.7/390.2 MB 5.3 MB/s eta 0:00:13\n",
      "   --------------------------------- ------ 324.8/390.2 MB 5.3 MB/s eta 0:00:13\n",
      "   --------------------------------- ------ 326.1/390.2 MB 5.3 MB/s eta 0:00:13\n",
      "   --------------------------------- ------ 327.2/390.2 MB 5.3 MB/s eta 0:00:12\n",
      "   --------------------------------- ------ 328.2/390.2 MB 5.3 MB/s eta 0:00:12\n",
      "   --------------------------------- ------ 329.5/390.2 MB 5.3 MB/s eta 0:00:12\n",
      "   --------------------------------- ------ 330.8/390.2 MB 5.3 MB/s eta 0:00:12\n",
      "   ---------------------------------- ----- 331.9/390.2 MB 5.3 MB/s eta 0:00:12\n",
      "   ---------------------------------- ----- 332.9/390.2 MB 5.3 MB/s eta 0:00:11\n",
      "   ---------------------------------- ----- 334.2/390.2 MB 5.3 MB/s eta 0:00:11\n",
      "   ---------------------------------- ----- 335.5/390.2 MB 5.3 MB/s eta 0:00:11\n",
      "   ---------------------------------- ----- 336.6/390.2 MB 5.3 MB/s eta 0:00:11\n",
      "   ---------------------------------- ----- 337.6/390.2 MB 5.3 MB/s eta 0:00:11\n",
      "   ---------------------------------- ----- 338.7/390.2 MB 5.3 MB/s eta 0:00:10\n",
      "   ---------------------------------- ----- 340.0/390.2 MB 5.3 MB/s eta 0:00:10\n",
      "   ---------------------------------- ----- 341.3/390.2 MB 5.3 MB/s eta 0:00:10\n",
      "   ----------------------------------- ---- 342.6/390.2 MB 5.3 MB/s eta 0:00:09\n",
      "   ----------------------------------- ---- 343.9/390.2 MB 5.4 MB/s eta 0:00:09\n",
      "   ----------------------------------- ---- 345.0/390.2 MB 5.4 MB/s eta 0:00:09\n",
      "   ----------------------------------- ---- 346.0/390.2 MB 5.4 MB/s eta 0:00:09\n",
      "   ----------------------------------- ---- 347.3/390.2 MB 5.4 MB/s eta 0:00:08\n",
      "   ----------------------------------- ---- 348.4/390.2 MB 5.4 MB/s eta 0:00:08\n",
      "   ----------------------------------- ---- 349.4/390.2 MB 5.5 MB/s eta 0:00:08\n",
      "   ----------------------------------- ---- 350.7/390.2 MB 5.5 MB/s eta 0:00:08\n",
      "   ------------------------------------ --- 352.1/390.2 MB 5.5 MB/s eta 0:00:07\n",
      "   ------------------------------------ --- 353.1/390.2 MB 5.5 MB/s eta 0:00:07\n",
      "   ------------------------------------ --- 354.4/390.2 MB 5.5 MB/s eta 0:00:07\n",
      "   ------------------------------------ --- 355.5/390.2 MB 5.5 MB/s eta 0:00:07\n",
      "   ------------------------------------ --- 356.8/390.2 MB 5.6 MB/s eta 0:00:07\n",
      "   ------------------------------------ --- 358.1/390.2 MB 5.5 MB/s eta 0:00:06\n",
      "   ------------------------------------ --- 358.9/390.2 MB 5.5 MB/s eta 0:00:06\n",
      "   ------------------------------------ --- 360.2/390.2 MB 5.5 MB/s eta 0:00:06\n",
      "   ------------------------------------- -- 361.5/390.2 MB 5.5 MB/s eta 0:00:06\n",
      "   ------------------------------------- -- 362.0/390.2 MB 5.5 MB/s eta 0:00:06\n",
      "   ------------------------------------- -- 363.1/390.2 MB 5.5 MB/s eta 0:00:05\n",
      "   ------------------------------------- -- 364.1/390.2 MB 5.5 MB/s eta 0:00:05\n",
      "   ------------------------------------- -- 365.2/390.2 MB 5.5 MB/s eta 0:00:05\n",
      "   ------------------------------------- -- 366.5/390.2 MB 5.5 MB/s eta 0:00:05\n",
      "   ------------------------------------- -- 367.8/390.2 MB 5.5 MB/s eta 0:00:05\n",
      "   ------------------------------------- -- 369.1/390.2 MB 5.5 MB/s eta 0:00:04\n",
      "   ------------------------------------- -- 370.1/390.2 MB 5.5 MB/s eta 0:00:04\n",
      "   -------------------------------------- - 371.2/390.2 MB 5.5 MB/s eta 0:00:04\n",
      "   -------------------------------------- - 372.2/390.2 MB 5.5 MB/s eta 0:00:04\n",
      "   -------------------------------------- - 373.8/390.2 MB 5.5 MB/s eta 0:00:03\n",
      "   -------------------------------------- - 374.9/390.2 MB 5.5 MB/s eta 0:00:03\n",
      "   -------------------------------------- - 376.2/390.2 MB 5.5 MB/s eta 0:00:03\n",
      "   -------------------------------------- - 377.0/390.2 MB 5.5 MB/s eta 0:00:03\n",
      "   -------------------------------------- - 378.3/390.2 MB 5.5 MB/s eta 0:00:03\n",
      "   -------------------------------------- - 379.6/390.2 MB 5.5 MB/s eta 0:00:02\n",
      "   ---------------------------------------  380.9/390.2 MB 5.5 MB/s eta 0:00:02\n",
      "   ---------------------------------------  381.9/390.2 MB 5.5 MB/s eta 0:00:02\n",
      "   ---------------------------------------  383.0/390.2 MB 5.5 MB/s eta 0:00:02\n",
      "   ---------------------------------------  384.0/390.2 MB 5.5 MB/s eta 0:00:02\n",
      "   ---------------------------------------  385.4/390.2 MB 5.5 MB/s eta 0:00:01\n",
      "   ---------------------------------------  386.7/390.2 MB 5.5 MB/s eta 0:00:01\n",
      "   ---------------------------------------  388.0/390.2 MB 5.5 MB/s eta 0:00:01\n",
      "   ---------------------------------------  389.0/390.2 MB 5.5 MB/s eta 0:00:01\n",
      "   ---------------------------------------  390.1/390.2 MB 5.5 MB/s eta 0:00:01\n",
      "   ---------------------------------------  390.1/390.2 MB 5.5 MB/s eta 0:00:01\n",
      "   ---------------------------------------  390.1/390.2 MB 5.5 MB/s eta 0:00:01\n",
      "   ---------------------------------------  390.1/390.2 MB 5.5 MB/s eta 0:00:01\n",
      "   ---------------------------------------  390.1/390.2 MB 5.5 MB/s eta 0:00:01\n",
      "   ---------------------------------------  390.1/390.2 MB 5.5 MB/s eta 0:00:01\n",
      "   ---------------------------------------  390.1/390.2 MB 5.5 MB/s eta 0:00:01\n",
      "   ---------------------------------------- 390.2/390.2 MB 5.3 MB/s eta 0:00:00\n",
      "Downloading tensorboard-2.18.0-py3-none-any.whl (5.5 MB)\n",
      "   ---------------------------------------- 0.0/5.5 MB ? eta -:--:--\n",
      "   ------- -------------------------------- 1.0/5.5 MB 5.0 MB/s eta 0:00:01\n",
      "   --------------- ------------------------ 2.1/5.5 MB 5.1 MB/s eta 0:00:01\n",
      "   ------------------------ --------------- 3.4/5.5 MB 5.6 MB/s eta 0:00:01\n",
      "   ------------------------------------ --- 5.0/5.5 MB 6.0 MB/s eta 0:00:01\n",
      "   ---------------------------------------- 5.5/5.5 MB 5.7 MB/s eta 0:00:00\n",
      "Installing collected packages: tensorboard, tensorflow-intel, tensorflow\n",
      "  Attempting uninstall: tensorboard\n",
      "    Found existing installation: tensorboard 2.17.1\n",
      "    Uninstalling tensorboard-2.17.1:\n",
      "      Successfully uninstalled tensorboard-2.17.1\n",
      "  Attempting uninstall: tensorflow-intel\n",
      "    Found existing installation: tensorflow-intel 2.17.0\n",
      "    Uninstalling tensorflow-intel-2.17.0:\n",
      "      Successfully uninstalled tensorflow-intel-2.17.0\n",
      "  Attempting uninstall: tensorflow\n",
      "    Found existing installation: tensorflow 2.17.0\n",
      "    Uninstalling tensorflow-2.17.0:\n",
      "      Successfully uninstalled tensorflow-2.17.0\n",
      "Successfully installed tensorboard-2.18.0 tensorflow-2.18.0 tensorflow-intel-2.18.0\n"
     ]
    },
    {
     "name": "stderr",
     "output_type": "stream",
     "text": [
      "\n",
      "[notice] A new release of pip is available: 24.2 -> 24.3.1\n",
      "[notice] To update, run: python.exe -m pip install --upgrade pip\n"
     ]
    }
   ],
   "source": [
    "import tensorflow as tf\n",
    "import numpy as np\n",
    "import matplotlib.pyplot as plt\n",
    "%matplotlib inline\n",
    "from tensorflow import keras\n"
   ]
  },
  {
   "cell_type": "code",
   "execution_count": 5,
   "metadata": {},
   "outputs": [],
   "source": [
    "(X_train,y_train),(X_test,y_test)=keras.datasets.mnist.load_data()"
   ]
  },
  {
   "cell_type": "code",
   "execution_count": 11,
   "metadata": {},
   "outputs": [],
   "source": [
    "X_test=X_test/255\n",
    "X_train=X_train/255"
   ]
  },
  {
   "cell_type": "code",
   "execution_count": 6,
   "metadata": {},
   "outputs": [
    {
     "data": {
      "text/plain": [
       "60000"
      ]
     },
     "execution_count": 6,
     "metadata": {},
     "output_type": "execute_result"
    }
   ],
   "source": [
    "len(X_train)\n"
   ]
  },
  {
   "cell_type": "code",
   "execution_count": 14,
   "metadata": {},
   "outputs": [
    {
     "data": {
      "text/plain": [
       "10000"
      ]
     },
     "execution_count": 14,
     "metadata": {},
     "output_type": "execute_result"
    }
   ],
   "source": [
    "len(X_test)"
   ]
  },
  {
   "cell_type": "code",
   "execution_count": 15,
   "metadata": {},
   "outputs": [
    {
     "data": {
      "text/plain": [
       "28"
      ]
     },
     "execution_count": 15,
     "metadata": {},
     "output_type": "execute_result"
    }
   ],
   "source": [
    "len(X_train[0])"
   ]
  },
  {
   "cell_type": "code",
   "execution_count": 19,
   "metadata": {},
   "outputs": [
    {
     "data": {
      "text/plain": [
       "<matplotlib.image.AxesImage at 0x1adaa2a1450>"
      ]
     },
     "execution_count": 19,
     "metadata": {},
     "output_type": "execute_result"
    },
    {
     "data": {
      "image/png": "[encoded data removed]",
      "text/plain": [
       "<Figure size 480x480 with 1 Axes>"
      ]
     },
     "metadata": {},
     "output_type": "display_data"
    }
   ],
   "source": [
    "plt.matshow(X_train[4])"
   ]
  },
  {
   "cell_type": "code",
   "execution_count": 20,
   "metadata": {},
   "outputs": [
    {
     "data": {
      "text/plain": [
       "array([5, 0, 4, 1, 9], dtype=uint8)"
      ]
     },
     "execution_count": 20,
     "metadata": {},
     "output_type": "execute_result"
    }
   ],
   "source": [
    "y_train[:5]"
   ]
  },
  {
   "cell_type": "code",
   "execution_count": 18,
   "metadata": {},
   "outputs": [
    {
     "data": {
      "text/plain": [
       "9"
      ]
     },
     "execution_count": 18,
     "metadata": {},
     "output_type": "execute_result"
    }
   ],
   "source": [
    "y_train[4]"
   ]
  },
  {
   "cell_type": "code",
   "execution_count": 7,
   "metadata": {},
   "outputs": [
    {
     "data": {
      "text/plain": [
       "(60000, 28, 28)"
      ]
     },
     "execution_count": 7,
     "metadata": {},
     "output_type": "execute_result"
    }
   ],
   "source": [
    "X_train.shape"
   ]
  },
  {
   "cell_type": "code",
   "execution_count": 12,
   "metadata": {},
   "outputs": [
    {
     "data": {
      "text/plain": [
       "(60000, 784)"
      ]
     },
     "execution_count": 12,
     "metadata": {},
     "output_type": "execute_result"
    }
   ],
   "source": [
    "x_train_flattned=X_train.reshape(len(X_train),28*28)\n",
    "x_train_flattned.shape"
   ]
  },
  {
   "cell_type": "code",
   "execution_count": 13,
   "metadata": {},
   "outputs": [
    {
     "data": {
      "text/plain": [
       "(10000, 784)"
      ]
     },
     "execution_count": 13,
     "metadata": {},
     "output_type": "execute_result"
    }
   ],
   "source": [
    "x_test_flattned=X_test.reshape(len(X_test),28*28)\n",
    "x_test_flattned.shape"
   ]
  },
  {
   "cell_type": "code",
   "execution_count": 14,
   "metadata": {},
   "outputs": [
    {
     "name": "stderr",
     "output_type": "stream",
     "text": [
      "c:\\Users\\vishe\\AppData\\Local\\Programs\\Python\\Python311\\Lib\\site-packages\\keras\\src\\layers\\core\\dense.py:87: UserWarning: Do not pass an `input_shape`/`input_dim` argument to a layer. When using Sequential models, prefer using an `Input(shape)` object as the first layer in the model instead.\n",
      "  super().__init__(activity_regularizer=activity_regularizer, **kwargs)\n"
     ]
    },
    {
     "name": "stdout",
     "output_type": "stream",
     "text": [
      "Epoch 1/5\n",
      "\u001b[1m1875/1875\u001b[0m \u001b[32m━━━━━━━━━━━━━━━━━━━━\u001b[0m\u001b[37m\u001b[0m \u001b[1m5s\u001b[0m 2ms/step - accuracy: 0.8146 - loss: 0.7199\n",
      "Epoch 2/5\n",
      "\u001b[1m1875/1875\u001b[0m \u001b[32m━━━━━━━━━━━━━━━━━━━━\u001b[0m\u001b[37m\u001b[0m \u001b[1m4s\u001b[0m 2ms/step - accuracy: 0.9151 - loss: 0.3077\n",
      "Epoch 3/5\n",
      "\u001b[1m1875/1875\u001b[0m \u001b[32m━━━━━━━━━━━━━━━━━━━━\u001b[0m\u001b[37m\u001b[0m \u001b[1m4s\u001b[0m 2ms/step - accuracy: 0.9208 - loss: 0.2852\n",
      "Epoch 4/5\n",
      "\u001b[1m1875/1875\u001b[0m \u001b[32m━━━━━━━━━━━━━━━━━━━━\u001b[0m\u001b[37m\u001b[0m \u001b[1m4s\u001b[0m 2ms/step - accuracy: 0.9241 - loss: 0.2742\n",
      "Epoch 5/5\n",
      "\u001b[1m1875/1875\u001b[0m \u001b[32m━━━━━━━━━━━━━━━━━━━━\u001b[0m\u001b[37m\u001b[0m \u001b[1m4s\u001b[0m 2ms/step - accuracy: 0.9247 - loss: 0.2681\n"
     ]
    },
    {
     "data": {
      "text/plain": [
       "<keras.src.callbacks.history.History at 0x15a59719790>"
      ]
     },
     "execution_count": 14,
     "metadata": {},
     "output_type": "execute_result"
    }
   ],
   "source": [
    "model=keras.Sequential([\n",
    "    keras.layers.Dense(10,input_shape=(784,),activation='sigmoid')\n",
    "])\n",
    "model.compile(\n",
    "    optimizer='adam',\n",
    "    loss='sparse_categorical_crossentropy',\n",
    "    metrics=['accuracy']\n",
    ")\n",
    "model.fit(x_train_flattned,y_train,epochs=5)"
   ]
  },
  {
   "cell_type": "code",
   "execution_count": null,
   "metadata": {},
   "outputs": [],
   "source": []
  },
  {
   "cell_type": "code",
   "execution_count": 15,
   "metadata": {},
   "outputs": [
    {
     "name": "stdout",
     "output_type": "stream",
     "text": [
      "\u001b[1m313/313\u001b[0m \u001b[32m━━━━━━━━━━━━━━━━━━━━\u001b[0m\u001b[37m\u001b[0m \u001b[1m1s\u001b[0m 2ms/step - accuracy: 0.9146 - loss: 0.2998\n"
     ]
    },
    {
     "data": {
      "text/plain": [
       "[0.26473692059516907, 0.9262999892234802]"
      ]
     },
     "execution_count": 15,
     "metadata": {},
     "output_type": "execute_result"
    }
   ],
   "source": [
    "model.evaluate(x_test_flattned,y_test)"
   ]
  },
  {
   "cell_type": "code",
   "execution_count": 24,
   "metadata": {},
   "outputs": [
    {
     "data": {
      "text/plain": [
       "<matplotlib.image.AxesImage at 0x15a5a96bfd0>"
      ]
     },
     "execution_count": 24,
     "metadata": {},
     "output_type": "execute_result"
    },
    {
     "data": {
      "image/png": "[encoded data removed]",
      "text/plain": [
       "<Figure size 480x480 with 1 Axes>"
      ]
     },
     "metadata": {},
     "output_type": "display_data"
    }
   ],
   "source": [
    "plt.matshow(X_test[100])"
   ]
  },
  {
   "cell_type": "code",
   "execution_count": 20,
   "metadata": {},
   "outputs": [
    {
     "name": "stdout",
     "output_type": "stream",
     "text": [
      "\u001b[1m313/313\u001b[0m \u001b[32m━━━━━━━━━━━━━━━━━━━━\u001b[0m\u001b[37m\u001b[0m \u001b[1m1s\u001b[0m 2ms/step\n"
     ]
    },
    {
     "data": {
      "text/plain": [
       "array([3.0874939e+00, 3.9251136e-05, 8.7522459e+00, 9.5686028e+01,\n",
       "       2.4332657e-01, 1.0244023e+01, 9.3894807e-05, 9.9974533e+01,\n",
       "       8.5060616e+00, 6.4491798e+01], dtype=float32)"
      ]
     },
     "execution_count": 20,
     "metadata": {},
     "output_type": "execute_result"
    }
   ],
   "source": [
    "y_predicted=model.predict(x_test_flattned)\n"
   ]
  },
  {
   "cell_type": "code",
   "execution_count": 25,
   "metadata": {},
   "outputs": [
    {
     "data": {
      "text/plain": [
       "6"
      ]
     },
     "execution_count": 25,
     "metadata": {},
     "output_type": "execute_result"
    }
   ],
   "source": [
    "np.argmax(y_predicted[100])"
   ]
  },
  {
   "cell_type": "code",
   "execution_count": 26,
   "metadata": {},
   "outputs": [],
   "source": [
    "y_predicted_labels=[np.argmax(i) for i in y_predicted]"
   ]
  },
  {
   "cell_type": "code",
   "execution_count": 27,
   "metadata": {},
   "outputs": [
    {
     "data": {
      "text/plain": [
       "<tf.Tensor: shape=(10, 10), dtype=int32, numpy=\n",
       "array([[ 964,    0,    2,    2,    0,    5,    4,    2,    1,    0],\n",
       "       [   0, 1116,    3,    2,    0,    1,    4,    2,    7,    0],\n",
       "       [   6,    9,  931,   14,    8,    3,   13,   10,   35,    3],\n",
       "       [   2,    0,   23,  916,    0,   26,    2,   11,   23,    7],\n",
       "       [   2,    2,    6,    1,  917,    0,    8,    4,    9,   33],\n",
       "       [  10,    3,    3,   25,   11,  783,   14,    6,   29,    8],\n",
       "       [  14,    3,    7,    1,    7,   13,  909,    2,    2,    0],\n",
       "       [   2,    7,   24,    5,    7,    0,    0,  950,    1,   32],\n",
       "       [   9,    9,    7,   19,    9,   26,    9,   11,  869,    6],\n",
       "       [  11,    7,    1,   11,   29,    7,    0,   28,    7,  908]])>"
      ]
     },
     "execution_count": 27,
     "metadata": {},
     "output_type": "execute_result"
    }
   ],
   "source": [
    "cm=tf.math.confusion_matrix(labels=y_test,predictions=y_predicted_labels)\n",
    "cm"
   ]
  },
  {
   "cell_type": "code",
   "execution_count": 28,
   "metadata": {},
   "outputs": [
    {
     "data": {
      "text/plain": [
       "Text(95.72222222222221, 0.5, 'Actual')"
      ]
     },
     "execution_count": 28,
     "metadata": {},
     "output_type": "execute_result"
    },
    {
     "data": {
      "image/png": "[encoded data removed]",
      "text/plain": [
       "<Figure size 1000x700 with 2 Axes>"
      ]
     },
     "metadata": {},
     "output_type": "display_data"
    }
   ],
   "source": [
    "import seaborn as sn\n",
    "plt.figure(figsize=(10,7))\n",
    "sn.heatmap(cm,annot=True,fmt='d')\n",
    "plt.xlabel('Predicted')\n",
    "plt.ylabel('Actual')"
   ]
  },
  {
   "cell_type": "code",
   "execution_count": 30,
   "metadata": {},
   "outputs": [
    {
     "name": "stderr",
     "output_type": "stream",
     "text": [
      "c:\\Users\\vishe\\AppData\\Local\\Programs\\Python\\Python311\\Lib\\site-packages\\keras\\src\\layers\\core\\dense.py:87: UserWarning: Do not pass an `input_shape`/`input_dim` argument to a layer. When using Sequential models, prefer using an `Input(shape)` object as the first layer in the model instead.\n",
      "  super().__init__(activity_regularizer=activity_regularizer, **kwargs)\n"
     ]
    },
    {
     "name": "stdout",
     "output_type": "stream",
     "text": [
      "Epoch 1/5\n",
      "\u001b[1m1875/1875\u001b[0m \u001b[32m━━━━━━━━━━━━━━━━━━━━\u001b[0m\u001b[37m\u001b[0m \u001b[1m7s\u001b[0m 3ms/step - accuracy: 0.1049 - loss: 2.8723\n",
      "Epoch 2/5\n",
      "\u001b[1m1875/1875\u001b[0m \u001b[32m━━━━━━━━━━━━━━━━━━━━\u001b[0m\u001b[37m\u001b[0m \u001b[1m6s\u001b[0m 3ms/step - accuracy: 0.0994 - loss: 2.2519\n",
      "Epoch 3/5\n",
      "\u001b[1m1875/1875\u001b[0m \u001b[32m━━━━━━━━━━━━━━━━━━━━\u001b[0m\u001b[37m\u001b[0m \u001b[1m6s\u001b[0m 3ms/step - accuracy: 0.0994 - loss: 2.2728\n",
      "Epoch 4/5\n",
      "\u001b[1m1875/1875\u001b[0m \u001b[32m━━━━━━━━━━━━━━━━━━━━\u001b[0m\u001b[37m\u001b[0m \u001b[1m6s\u001b[0m 3ms/step - accuracy: 0.0976 - loss: 2.2761\n",
      "Epoch 5/5\n",
      "\u001b[1m1875/1875\u001b[0m \u001b[32m━━━━━━━━━━━━━━━━━━━━\u001b[0m\u001b[37m\u001b[0m \u001b[1m6s\u001b[0m 3ms/step - accuracy: 0.0985 - loss: 2.2660\n"
     ]
    },
    {
     "data": {
      "text/plain": [
       "<keras.src.callbacks.history.History at 0x15a5e6d68d0>"
      ]
     },
     "execution_count": 30,
     "metadata": {},
     "output_type": "execute_result"
    }
   ],
   "source": [
    "model=keras.Sequential([\n",
    "    keras.layers.Dense(100,input_shape=(784,),activation='sigmoid'),\n",
    "    keras.layers.Dense(10,activation='relu' )\n",
    "])\n",
    "model.compile(\n",
    "    optimizer='adam',\n",
    "    loss='sparse_categorical_crossentropy',\n",
    "    metrics=['accuracy']\n",
    ")\n",
    "model.fit(x_train_flattned,y_train,epochs=5)"
   ]
  }
 ],
 "metadata": {
  "kernelspec": {
   "display_name": "Python 3",
   "language": "python",
   "name": "python3"
  },
  "language_info": {
   "codemirror_mode": {
    "name": "ipython",
    "version": 3
   },
   "file_extension": ".py",
   "mimetype": "text/x-python",
   "name": "python",
   "nbconvert_exporter": "python",
   "pygments_lexer": "ipython3",
   "version": "3.11.8"
  }
 },
 "nbformat": 4,
 "nbformat_minor": 2
}
