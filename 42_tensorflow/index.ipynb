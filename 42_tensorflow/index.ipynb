{
 "cells": [
  {
   "cell_type": "code",
   "execution_count": 1,
   "metadata": {},
   "outputs": [],
   "source": [
    "import tensorflow as tf"
   ]
  },
  {
   "cell_type": "code",
   "execution_count": 2,
   "metadata": {},
   "outputs": [],
   "source": [
    "daily_sales_number=[21,22,-100,31,-1,32,34,31]\n"
   ]
  },
  {
   "cell_type": "code",
   "execution_count": 3,
   "metadata": {},
   "outputs": [
    {
     "data": {
      "text/plain": [
       "<_TensorSliceDataset element_spec=TensorSpec(shape=(), dtype=tf.int32, name=None)>"
      ]
     },
     "execution_count": 3,
     "metadata": {},
     "output_type": "execute_result"
    }
   ],
   "source": [
    "tf_dataset=tf.data.Dataset.from_tensor_slices(daily_sales_number)\n",
    "tf_dataset"
   ]
  },
  {
   "cell_type": "code",
   "execution_count": 4,
   "metadata": {},
   "outputs": [
    {
     "name": "stdout",
     "output_type": "stream",
     "text": [
      "21\n",
      "22\n",
      "-100\n",
      "31\n",
      "-1\n",
      "32\n",
      "34\n",
      "31\n"
     ]
    }
   ],
   "source": [
    "for sales in tf_dataset.as_numpy_iterator():\n",
    "    print(sales)\n"
   ]
  },
  {
   "cell_type": "code",
   "execution_count": 6,
   "metadata": {},
   "outputs": [
    {
     "name": "stdout",
     "output_type": "stream",
     "text": [
      "21\n",
      "22\n",
      "31\n",
      "32\n",
      "34\n",
      "31\n"
     ]
    }
   ],
   "source": [
    "#to filter the function\n",
    "tf_dataset=tf_dataset.filter(lambda x:x>0)\n",
    "for sales in tf_dataset.as_numpy_iterator():\n",
    "    print(sales)"
   ]
  },
  {
   "cell_type": "code",
   "execution_count": 7,
   "metadata": {},
   "outputs": [
    {
     "name": "stdout",
     "output_type": "stream",
     "text": [
      "1512\n",
      "1584\n",
      "2232\n",
      "2304\n",
      "2448\n",
      "2232\n"
     ]
    }
   ],
   "source": [
    "#to change the or them map the values \n",
    "tf_dataset=tf_dataset.map(lambda x:x*72)\n",
    "for sales in tf_dataset.as_numpy_iterator():\n",
    "    print(sales)"
   ]
  },
  {
   "cell_type": "code",
   "execution_count": 8,
   "metadata": {},
   "outputs": [
    {
     "name": "stdout",
     "output_type": "stream",
     "text": [
      "1512\n",
      "1584\n",
      "2304\n",
      "2232\n",
      "2448\n",
      "2232\n"
     ]
    }
   ],
   "source": [
    "tf_dataset=tf_dataset.shuffle(2)\n",
    "for sales in tf_dataset.as_numpy_iterator():\n",
    "    print(sales)\n",
    "#shuffle the data is the best way to shuffle the data\n",
    "#it works on the buffer size of the data with the process of the data\n",
    "#it will shuffle the data in the buffer size of the data\n",
    "#explain with examplw\n",
    "#buffer size is 2\n",
    "#data is 1,2,3,4,5,6,7,8\n",
    "#buffer size is 2\n",
    "#it will take the first two data and shuffle them\n",
    "#it will take the next two data and shuffle them\n",
    "#it will take the next two data and shuffle them\n",
    "#it will take the next two data and shuffle them\n"
   ]
  },
  {
   "cell_type": "code",
   "execution_count": 9,
   "metadata": {},
   "outputs": [
    {
     "name": "stdout",
     "output_type": "stream",
     "text": [
      "[1584 2232]\n",
      "[2304 2448]\n",
      "[2232 1512]\n"
     ]
    }
   ],
   "source": [
    "for sales_batch in tf_dataset.batch(2).as_numpy_iterator():\n",
    "    print(sales_batch)"
   ]
  },
  {
   "cell_type": "code",
   "execution_count": 12,
   "metadata": {},
   "outputs": [
    {
     "name": "stdout",
     "output_type": "stream",
     "text": [
      "[1512 2232]\n",
      "[1584 2448]\n",
      "[2232 2304]\n"
     ]
    }
   ],
   "source": [
    "#in one line code\n",
    "\n",
    "tf_dataset=tf.data.Dataset.from_tensor_slices(daily_sales_number)\n",
    "tf_dataset=tf_dataset.filter(lambda x:x>0).map(lambda y:y*72).shuffle(2).batch(2)\n",
    "\n",
    "for sales in tf_dataset.as_numpy_iterator():\n",
    "    print(sales)"
   ]
  },
  {
   "cell_type": "code",
   "execution_count": 13,
   "metadata": {},
   "outputs": [
    {
     "name": "stdout",
     "output_type": "stream",
     "text": [
      "b'images\\\\cat\\\\20 Reasons Why Cats Make the Best Pets....jpg'\n",
      "b'images\\\\cat\\\\7 Foods Your Cat Can_t Eat.jpg'\n",
      "b'images\\\\cat\\\\A cat appears to have caught the....jpg'\n",
      "b'images\\\\cat\\\\Adopt-A-Cat Month\\xc2\\xae - American Humane....jpg'\n",
      "b'images\\\\cat\\\\All About Your Cat_s Tongue.jpg'\n"
     ]
    }
   ],
   "source": [
    "images_ds=tf.data.Dataset.list_files('images/*/*',shuffle=False)\n",
    "\n",
    "for file in images_ds.take(5):\n",
    "    print(file.numpy())"
   ]
  },
  {
   "cell_type": "code",
   "execution_count": 14,
   "metadata": {},
   "outputs": [
    {
     "name": "stdout",
     "output_type": "stream",
     "text": [
      "b'images\\\\dog\\\\Why Grumpy Dogs Outperform Friendly....jpg'\n",
      "b'images\\\\cat\\\\Cats really do need their humans_ even....jpg'\n",
      "b'images\\\\dog\\\\Largest Dog Breeds \\xe2\\x80\\x93 American Kennel Club.jpg'\n",
      "b'images\\\\dog\\\\Are Dogs Really Color-Blind_ _ Britannica.jpg'\n",
      "b'images\\\\dog\\\\Trained dogs can smell coronavirus in....jpg'\n"
     ]
    }
   ],
   "source": [
    "images_ds=images_ds.shuffle(200)\n",
    "for file in images_ds.take(5):\n",
    "    print(file.numpy())"
   ]
  },
  {
   "cell_type": "code",
   "execution_count": 15,
   "metadata": {},
   "outputs": [],
   "source": [
    "class_names=[\"cat\",\"dog\"]\n"
   ]
  },
  {
   "cell_type": "code",
   "execution_count": 18,
   "metadata": {},
   "outputs": [
    {
     "data": {
      "text/plain": [
       "130"
      ]
     },
     "execution_count": 18,
     "metadata": {},
     "output_type": "execute_result"
    }
   ],
   "source": [
    "image_count=len(images_ds)\n",
    "image_count"
   ]
  },
  {
   "cell_type": "code",
   "execution_count": 19,
   "metadata": {},
   "outputs": [],
   "source": [
    "train_size=int(0.8*image_count)\n",
    "train_ds=images_ds.take(train_size)\n",
    "test_ds=images_ds.skip(train_size)"
   ]
  },
  {
   "cell_type": "code",
   "execution_count": 20,
   "metadata": {},
   "outputs": [
    {
     "data": {
      "text/plain": [
       "(104, 26)"
      ]
     },
     "execution_count": 20,
     "metadata": {},
     "output_type": "execute_result"
    }
   ],
   "source": [
    "len(train_ds),len(test_ds)"
   ]
  },
  {
   "cell_type": "code",
   "execution_count": 22,
   "metadata": {},
   "outputs": [],
   "source": [
    "def get_label(file_path):\n",
    "    import os\n",
    "    return tf.strings.split(file_path,os.path.sep)[-2]"
   ]
  },
  {
   "cell_type": "code",
   "execution_count": 23,
   "metadata": {},
   "outputs": [
    {
     "name": "stdout",
     "output_type": "stream",
     "text": [
      "tf.Tensor(b'cat', shape=(), dtype=string)\n",
      "tf.Tensor(b'cat', shape=(), dtype=string)\n",
      "tf.Tensor(b'cat', shape=(), dtype=string)\n",
      "tf.Tensor(b'dog', shape=(), dtype=string)\n",
      "tf.Tensor(b'dog', shape=(), dtype=string)\n",
      "tf.Tensor(b'dog', shape=(), dtype=string)\n",
      "tf.Tensor(b'dog', shape=(), dtype=string)\n",
      "tf.Tensor(b'dog', shape=(), dtype=string)\n",
      "tf.Tensor(b'dog', shape=(), dtype=string)\n",
      "tf.Tensor(b'dog', shape=(), dtype=string)\n",
      "tf.Tensor(b'dog', shape=(), dtype=string)\n",
      "tf.Tensor(b'dog', shape=(), dtype=string)\n",
      "tf.Tensor(b'dog', shape=(), dtype=string)\n",
      "tf.Tensor(b'dog', shape=(), dtype=string)\n",
      "tf.Tensor(b'dog', shape=(), dtype=string)\n",
      "tf.Tensor(b'dog', shape=(), dtype=string)\n",
      "tf.Tensor(b'dog', shape=(), dtype=string)\n",
      "tf.Tensor(b'cat', shape=(), dtype=string)\n",
      "tf.Tensor(b'dog', shape=(), dtype=string)\n",
      "tf.Tensor(b'dog', shape=(), dtype=string)\n",
      "tf.Tensor(b'cat', shape=(), dtype=string)\n",
      "tf.Tensor(b'dog', shape=(), dtype=string)\n",
      "tf.Tensor(b'cat', shape=(), dtype=string)\n",
      "tf.Tensor(b'dog', shape=(), dtype=string)\n",
      "tf.Tensor(b'dog', shape=(), dtype=string)\n",
      "tf.Tensor(b'dog', shape=(), dtype=string)\n",
      "tf.Tensor(b'cat', shape=(), dtype=string)\n",
      "tf.Tensor(b'dog', shape=(), dtype=string)\n",
      "tf.Tensor(b'dog', shape=(), dtype=string)\n",
      "tf.Tensor(b'dog', shape=(), dtype=string)\n",
      "tf.Tensor(b'dog', shape=(), dtype=string)\n",
      "tf.Tensor(b'dog', shape=(), dtype=string)\n",
      "tf.Tensor(b'dog', shape=(), dtype=string)\n",
      "tf.Tensor(b'cat', shape=(), dtype=string)\n",
      "tf.Tensor(b'cat', shape=(), dtype=string)\n",
      "tf.Tensor(b'cat', shape=(), dtype=string)\n",
      "tf.Tensor(b'cat', shape=(), dtype=string)\n",
      "tf.Tensor(b'dog', shape=(), dtype=string)\n",
      "tf.Tensor(b'dog', shape=(), dtype=string)\n",
      "tf.Tensor(b'dog', shape=(), dtype=string)\n",
      "tf.Tensor(b'cat', shape=(), dtype=string)\n",
      "tf.Tensor(b'cat', shape=(), dtype=string)\n",
      "tf.Tensor(b'dog', shape=(), dtype=string)\n",
      "tf.Tensor(b'dog', shape=(), dtype=string)\n",
      "tf.Tensor(b'dog', shape=(), dtype=string)\n",
      "tf.Tensor(b'dog', shape=(), dtype=string)\n",
      "tf.Tensor(b'dog', shape=(), dtype=string)\n",
      "tf.Tensor(b'dog', shape=(), dtype=string)\n",
      "tf.Tensor(b'cat', shape=(), dtype=string)\n",
      "tf.Tensor(b'cat', shape=(), dtype=string)\n",
      "tf.Tensor(b'cat', shape=(), dtype=string)\n",
      "tf.Tensor(b'cat', shape=(), dtype=string)\n",
      "tf.Tensor(b'dog', shape=(), dtype=string)\n",
      "tf.Tensor(b'dog', shape=(), dtype=string)\n",
      "tf.Tensor(b'cat', shape=(), dtype=string)\n",
      "tf.Tensor(b'dog', shape=(), dtype=string)\n",
      "tf.Tensor(b'cat', shape=(), dtype=string)\n",
      "tf.Tensor(b'cat', shape=(), dtype=string)\n",
      "tf.Tensor(b'dog', shape=(), dtype=string)\n",
      "tf.Tensor(b'dog', shape=(), dtype=string)\n",
      "tf.Tensor(b'dog', shape=(), dtype=string)\n",
      "tf.Tensor(b'cat', shape=(), dtype=string)\n",
      "tf.Tensor(b'cat', shape=(), dtype=string)\n",
      "tf.Tensor(b'cat', shape=(), dtype=string)\n",
      "tf.Tensor(b'cat', shape=(), dtype=string)\n",
      "tf.Tensor(b'cat', shape=(), dtype=string)\n",
      "tf.Tensor(b'dog', shape=(), dtype=string)\n",
      "tf.Tensor(b'dog', shape=(), dtype=string)\n",
      "tf.Tensor(b'dog', shape=(), dtype=string)\n",
      "tf.Tensor(b'dog', shape=(), dtype=string)\n",
      "tf.Tensor(b'dog', shape=(), dtype=string)\n",
      "tf.Tensor(b'dog', shape=(), dtype=string)\n",
      "tf.Tensor(b'dog', shape=(), dtype=string)\n",
      "tf.Tensor(b'cat', shape=(), dtype=string)\n",
      "tf.Tensor(b'cat', shape=(), dtype=string)\n",
      "tf.Tensor(b'cat', shape=(), dtype=string)\n",
      "tf.Tensor(b'dog', shape=(), dtype=string)\n",
      "tf.Tensor(b'dog', shape=(), dtype=string)\n",
      "tf.Tensor(b'dog', shape=(), dtype=string)\n",
      "tf.Tensor(b'dog', shape=(), dtype=string)\n",
      "tf.Tensor(b'dog', shape=(), dtype=string)\n",
      "tf.Tensor(b'dog', shape=(), dtype=string)\n",
      "tf.Tensor(b'cat', shape=(), dtype=string)\n",
      "tf.Tensor(b'dog', shape=(), dtype=string)\n",
      "tf.Tensor(b'dog', shape=(), dtype=string)\n",
      "tf.Tensor(b'cat', shape=(), dtype=string)\n",
      "tf.Tensor(b'dog', shape=(), dtype=string)\n",
      "tf.Tensor(b'cat', shape=(), dtype=string)\n",
      "tf.Tensor(b'dog', shape=(), dtype=string)\n",
      "tf.Tensor(b'dog', shape=(), dtype=string)\n",
      "tf.Tensor(b'dog', shape=(), dtype=string)\n",
      "tf.Tensor(b'dog', shape=(), dtype=string)\n",
      "tf.Tensor(b'dog', shape=(), dtype=string)\n",
      "tf.Tensor(b'dog', shape=(), dtype=string)\n",
      "tf.Tensor(b'dog', shape=(), dtype=string)\n",
      "tf.Tensor(b'dog', shape=(), dtype=string)\n",
      "tf.Tensor(b'cat', shape=(), dtype=string)\n",
      "tf.Tensor(b'dog', shape=(), dtype=string)\n",
      "tf.Tensor(b'dog', shape=(), dtype=string)\n",
      "tf.Tensor(b'dog', shape=(), dtype=string)\n",
      "tf.Tensor(b'dog', shape=(), dtype=string)\n",
      "tf.Tensor(b'dog', shape=(), dtype=string)\n",
      "tf.Tensor(b'dog', shape=(), dtype=string)\n",
      "tf.Tensor(b'dog', shape=(), dtype=string)\n"
     ]
    }
   ],
   "source": [
    "for label in train_ds.map(get_label):\n",
    "    print(label)"
   ]
  },
  {
   "cell_type": "code",
   "execution_count": null,
   "metadata": {},
   "outputs": [],
   "source": []
  },
  {
   "cell_type": "code",
   "execution_count": 24,
   "metadata": {},
   "outputs": [],
   "source": [
    "def process_image(file_path):\n",
    "    label=get_label(file_path)\n",
    "    img=tf.io.read_file(file_path)\n",
    "    img=tf.image.decode_jpeg(img)\n",
    "    img=tf.image.resize(img,[128,128])\n",
    "    return img,label"
   ]
  },
  {
   "cell_type": "code",
   "execution_count": 27,
   "metadata": {},
   "outputs": [
    {
     "name": "stdout",
     "output_type": "stream",
     "text": [
      "tf.Tensor(\n",
      "[[[124.27344   85.35376   75.74048 ]\n",
      "  [149.46606   88.408936  70.342285]\n",
      "  [148.05078   87.05078   68.05078 ]\n",
      "  ...\n",
      "  [130.        75.        54.      ]\n",
      "  [132.        77.        56.      ]\n",
      "  [133.8125    78.8125    57.8125  ]]\n",
      "\n",
      " [[122.98169  107.32666  107.90088 ]\n",
      "  [129.68701  101.046875  99.08594 ]\n",
      "  [130.1128   103.33154  101.09326 ]\n",
      "  ...\n",
      "  [132.        77.        56.      ]\n",
      "  [132.84766   77.84766   56.847656]\n",
      "  [131.1875    76.1875    55.1875  ]]\n",
      "\n",
      " [[143.625    150.6477   150.8728  ]\n",
      "  [143.58545  151.29468  151.14282 ]\n",
      "  [145.33154  149.6836   150.52393 ]\n",
      "  ...\n",
      "  [129.        74.        53.      ]\n",
      "  [132.85718   76.85718   53.857178]\n",
      "  [130.375     74.375     51.375   ]]\n",
      "\n",
      " ...\n",
      "\n",
      " [[ 98.62402   99.62402   94.62402 ]\n",
      "  [100.09277  101.09277   96.09277 ]\n",
      "  [ 89.15283   90.15283   85.15283 ]\n",
      "  ...\n",
      "  [100.06738  100.06738   98.06738 ]\n",
      "  [ 99.77051   99.77051   97.77051 ]\n",
      "  [ 89.463135  89.463135  87.463135]]\n",
      "\n",
      " [[101.72046  102.72046   97.72046 ]\n",
      "  [109.14258  110.14258  105.14258 ]\n",
      "  [ 89.84497   90.84497   85.84497 ]\n",
      "  ...\n",
      "  [ 91.30347   91.30347   89.30347 ]\n",
      "  [ 94.22656   98.11401   94.48486 ]\n",
      "  [ 86.234375  90.75757   86.916504]]\n",
      "\n",
      " [[ 88.08887   88.08887   86.08887 ]\n",
      "  [ 89.59619   89.59619   87.59619 ]\n",
      "  [102.335205 103.335205  98.284424]\n",
      "  ...\n",
      "  [ 87.015625  87.015625  85.015625]\n",
      "  [ 97.80322   97.80322   95.80322 ]\n",
      "  [ 98.45972   98.45972   96.45972 ]]], shape=(128, 128, 3), dtype=float32) tf.Tensor(b'dog', shape=(), dtype=string)\n",
      "tf.Tensor(\n",
      "[[[133.78943  127.046875  87.30078 ]\n",
      "  [136.07593  129.69312   93.54578 ]\n",
      "  [133.10938  127.22656   91.00989 ]\n",
      "  ...\n",
      "  [  0.         0.         0.      ]\n",
      "  [  0.         0.         0.      ]\n",
      "  [  0.         0.         0.      ]]\n",
      "\n",
      " [[119.411865 117.80188   78.359375]\n",
      "  [121.46033  119.78638   84.34436 ]\n",
      "  [122.68591  121.85474   85.54846 ]\n",
      "  ...\n",
      "  [  0.         0.         0.      ]\n",
      "  [  0.         0.         0.      ]\n",
      "  [  0.         0.         0.      ]]\n",
      "\n",
      " [[104.38281  109.53906   68.07031 ]\n",
      "  [113.28906  117.28906   80.28906 ]\n",
      "  [112.26819  116.78906   78.22644 ]\n",
      "  ...\n",
      "  [  0.         0.         0.      ]\n",
      "  [  0.         0.         0.      ]\n",
      "  [  0.         0.         0.      ]]\n",
      "\n",
      " ...\n",
      "\n",
      " [[116.11926  134.60571   75.9552  ]\n",
      "  [147.70776  166.35779  109.4469  ]\n",
      "  [155.10938  166.13416  111.74744 ]\n",
      "  ...\n",
      "  [144.74731  141.7981   101.302   ]\n",
      "  [138.89685  137.40234   93.76953 ]\n",
      "  [129.3695   133.75623   75.79553 ]]\n",
      "\n",
      " [[145.5614   154.08093  108.87781 ]\n",
      "  [137.24402  158.2876    94.10278 ]\n",
      "  [164.47107  165.81482  116.61633 ]\n",
      "  ...\n",
      "  [121.78369  115.2876    69.11963 ]\n",
      "  [119.203125 125.983154  65.64722 ]\n",
      "  [144.79858  145.48608   87.642334]]\n",
      "\n",
      " [[163.57141  167.29333  109.09912 ]\n",
      "  [158.98657  165.47876  111.088745]\n",
      "  [147.09033  145.74243   96.74451 ]\n",
      "  ...\n",
      "  [128.60779  128.0531    74.88513 ]\n",
      "  [130.95642  137.82642   70.83252 ]\n",
      "  [160.20276  160.21094  100.32385 ]]], shape=(128, 128, 3), dtype=float32) tf.Tensor(b'dog', shape=(), dtype=string)\n",
      "tf.Tensor(\n",
      "[[[244.50977  244.875    233.92773 ]\n",
      "  [245.62305  243.       231.31152 ]\n",
      "  [244.82129  243.83008  232.08496 ]\n",
      "  ...\n",
      "  [255.       255.       255.      ]\n",
      "  [255.       255.       255.      ]\n",
      "  [254.4375   254.4375   254.4375  ]]\n",
      "\n",
      " [[245.40527  244.84082  232.875   ]\n",
      "  [243.51855  242.55273  232.1748  ]\n",
      "  [245.93262  243.12012  233.55762 ]\n",
      "  ...\n",
      "  [255.       255.       255.      ]\n",
      "  [255.       255.       255.      ]\n",
      "  [253.95508  253.95508  253.95508 ]]\n",
      "\n",
      " [[243.18066  242.58691  230.4707  ]\n",
      "  [245.77051  243.23926  231.50488 ]\n",
      "  [246.       243.       234.      ]\n",
      "  ...\n",
      "  [255.       255.       255.      ]\n",
      "  [255.       255.       255.      ]\n",
      "  [254.       254.       254.      ]]\n",
      "\n",
      " ...\n",
      "\n",
      " [[141.59668  147.04492  150.2168  ]\n",
      "  [143.91016  147.16113  151.70215 ]\n",
      "  [140.80566  142.04785  155.39062 ]\n",
      "  ...\n",
      "  [165.94824  168.94043  185.79492 ]\n",
      "  [150.26855  159.72559  174.80566 ]\n",
      "  [152.68164  168.43457  183.99414 ]]\n",
      "\n",
      " [[138.3457   145.62695  149.47168 ]\n",
      "  [140.9336   142.03027  151.20801 ]\n",
      "  [135.4541   145.5625   150.96289 ]\n",
      "  ...\n",
      "  [147.63477  152.6836   173.06152 ]\n",
      "  [160.55469  173.63281  183.74512 ]\n",
      "  [148.47852  156.12793  176.20898 ]]\n",
      "\n",
      " [[137.17578  146.71875  152.29199 ]\n",
      "  [125.609375 132.1416   141.56152 ]\n",
      "  [141.64062  147.63379  150.90625 ]\n",
      "  ...\n",
      "  [129.67188  142.83105  160.80273 ]\n",
      "  [137.10059  156.08594  172.18066 ]\n",
      "  [144.8418   153.50781  170.68555 ]]], shape=(128, 128, 3), dtype=float32) tf.Tensor(b'dog', shape=(), dtype=string)\n"
     ]
    }
   ],
   "source": [
    "for img,label in train_ds.map(process_image).take(3):\n",
    "    print(img,label)"
   ]
  },
  {
   "cell_type": "code",
   "execution_count": 28,
   "metadata": {},
   "outputs": [],
   "source": [
    "def scale(image,label):\n",
    "    return image/255.0,label\n"
   ]
  },
  {
   "cell_type": "code",
   "execution_count": null,
   "metadata": {},
   "outputs": [],
   "source": [
    "train_ds=train_ds.map(process_image).map(scale)\n"
   ]
  }
 ],
 "metadata": {
  "kernelspec": {
   "display_name": "Python 3",
   "language": "python",
   "name": "python3"
  },
  "language_info": {
   "codemirror_mode": {
    "name": "ipython",
    "version": 3
   },
   "file_extension": ".py",
   "mimetype": "text/x-python",
   "name": "python",
   "nbconvert_exporter": "python",
   "pygments_lexer": "ipython3",
   "version": "3.11.8"
  }
 },
 "nbformat": 4,
 "nbformat_minor": 2
}
