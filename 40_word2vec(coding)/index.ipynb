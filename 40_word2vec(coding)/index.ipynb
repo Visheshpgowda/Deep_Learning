{
 "cells": [
  {
   "cell_type": "code",
   "execution_count": 1,
   "metadata": {},
   "outputs": [],
   "source": [
    "import numpy as np\n",
    "import pandas as pd"
   ]
  },
  {
   "cell_type": "markdown",
   "metadata": {},
   "source": [
    "http://snap.stanford.edu/data/amazon/productGraph/categoryFiles/reviews_Sports_and_Outdoors_5.json.gz"
   ]
  },
  {
   "cell_type": "code",
   "execution_count": 2,
   "metadata": {},
   "outputs": [
    {
     "name": "stdout",
     "output_type": "stream",
     "text": [
      "Collecting gensim\n",
      "  Downloading gensim-4.3.3-cp311-cp311-win_amd64.whl.metadata (8.2 kB)\n",
      "Requirement already satisfied: numpy<2.0,>=1.18.5 in c:\\users\\vishe\\appdata\\local\\programs\\python\\python311\\lib\\site-packages (from gensim) (1.26.4)\n",
      "Collecting scipy<1.14.0,>=1.7.0 (from gensim)\n",
      "  Downloading scipy-1.13.1-cp311-cp311-win_amd64.whl.metadata (60 kB)\n",
      "Collecting smart-open>=1.8.1 (from gensim)\n",
      "  Downloading smart_open-7.1.0-py3-none-any.whl.metadata (24 kB)\n",
      "Requirement already satisfied: wrapt in c:\\users\\vishe\\appdata\\local\\programs\\python\\python311\\lib\\site-packages (from smart-open>=1.8.1->gensim) (1.16.0)\n",
      "Downloading gensim-4.3.3-cp311-cp311-win_amd64.whl (24.0 MB)\n",
      "   ---------------------------------------- 0.0/24.0 MB ? eta -:--:--\n",
      "    --------------------------------------- 0.5/24.0 MB 2.8 MB/s eta 0:00:09\n",
      "   -- ------------------------------------- 1.3/24.0 MB 4.5 MB/s eta 0:00:06\n",
      "   --- ------------------------------------ 2.1/24.0 MB 4.1 MB/s eta 0:00:06\n",
      "   ---- ----------------------------------- 2.9/24.0 MB 3.7 MB/s eta 0:00:06\n",
      "   ----- ---------------------------------- 3.4/24.0 MB 3.5 MB/s eta 0:00:06\n",
      "   ------ --------------------------------- 4.2/24.0 MB 3.6 MB/s eta 0:00:06\n",
      "   -------- ------------------------------- 5.2/24.0 MB 3.9 MB/s eta 0:00:05\n",
      "   ---------- ----------------------------- 6.0/24.0 MB 3.9 MB/s eta 0:00:05\n",
      "   ----------- ---------------------------- 6.8/24.0 MB 3.7 MB/s eta 0:00:05\n",
      "   ------------ --------------------------- 7.3/24.0 MB 3.6 MB/s eta 0:00:05\n",
      "   -------------- ------------------------- 8.7/24.0 MB 3.8 MB/s eta 0:00:05\n",
      "   ---------------- ----------------------- 10.0/24.0 MB 4.1 MB/s eta 0:00:04\n",
      "   ----------------- ---------------------- 10.7/24.0 MB 4.1 MB/s eta 0:00:04\n",
      "   ------------------ --------------------- 11.3/24.0 MB 4.0 MB/s eta 0:00:04\n",
      "   ------------------- -------------------- 11.5/24.0 MB 3.8 MB/s eta 0:00:04\n",
      "   -------------------- ------------------- 12.1/24.0 MB 3.7 MB/s eta 0:00:04\n",
      "   --------------------- ------------------ 13.1/24.0 MB 3.7 MB/s eta 0:00:03\n",
      "   ---------------------- ----------------- 13.6/24.0 MB 3.7 MB/s eta 0:00:03\n",
      "   ----------------------- ---------------- 14.2/24.0 MB 3.6 MB/s eta 0:00:03\n",
      "   ------------------------ --------------- 14.7/24.0 MB 3.6 MB/s eta 0:00:03\n",
      "   ------------------------- -------------- 15.2/24.0 MB 3.6 MB/s eta 0:00:03\n",
      "   --------------------------- ------------ 16.3/24.0 MB 3.6 MB/s eta 0:00:03\n",
      "   --------------------------- ------------ 16.8/24.0 MB 3.6 MB/s eta 0:00:03\n",
      "   ----------------------------- ---------- 17.8/24.0 MB 3.6 MB/s eta 0:00:02\n",
      "   ------------------------------- -------- 19.1/24.0 MB 3.7 MB/s eta 0:00:02\n",
      "   ---------------------------------- ----- 20.4/24.0 MB 3.8 MB/s eta 0:00:01\n",
      "   ------------------------------------ --- 21.8/24.0 MB 3.9 MB/s eta 0:00:01\n",
      "   ------------------------------------- -- 22.5/24.0 MB 3.9 MB/s eta 0:00:01\n",
      "   ---------------------------------------  23.9/24.0 MB 4.0 MB/s eta 0:00:01\n",
      "   ---------------------------------------- 24.0/24.0 MB 3.9 MB/s eta 0:00:00\n",
      "Downloading scipy-1.13.1-cp311-cp311-win_amd64.whl (46.2 MB)\n",
      "   ---------------------------------------- 0.0/46.2 MB ? eta -:--:--\n",
      "    --------------------------------------- 1.0/46.2 MB 5.0 MB/s eta 0:00:09\n",
      "   -- ------------------------------------- 2.4/46.2 MB 5.6 MB/s eta 0:00:08\n",
      "   -- ------------------------------------- 3.1/46.2 MB 5.3 MB/s eta 0:00:09\n",
      "   --- ------------------------------------ 4.5/46.2 MB 5.4 MB/s eta 0:00:08\n",
      "   ---- ----------------------------------- 5.5/46.2 MB 5.3 MB/s eta 0:00:08\n",
      "   ----- ---------------------------------- 6.3/46.2 MB 5.1 MB/s eta 0:00:08\n",
      "   ------ --------------------------------- 7.1/46.2 MB 5.0 MB/s eta 0:00:08\n",
      "   ------- -------------------------------- 8.1/46.2 MB 4.8 MB/s eta 0:00:08\n",
      "   ------- -------------------------------- 8.7/46.2 MB 4.8 MB/s eta 0:00:08\n",
      "   -------- ------------------------------- 9.4/46.2 MB 4.6 MB/s eta 0:00:08\n",
      "   --------- ------------------------------ 10.5/46.2 MB 4.6 MB/s eta 0:00:08\n",
      "   --------- ------------------------------ 11.0/46.2 MB 4.5 MB/s eta 0:00:08\n",
      "   --------- ------------------------------ 11.5/46.2 MB 4.2 MB/s eta 0:00:09\n",
      "   ---------- ----------------------------- 12.3/46.2 MB 4.2 MB/s eta 0:00:08\n",
      "   ----------- ---------------------------- 12.8/46.2 MB 4.1 MB/s eta 0:00:09\n",
      "   ----------- ---------------------------- 13.4/46.2 MB 4.1 MB/s eta 0:00:09\n",
      "   ------------ --------------------------- 13.9/46.2 MB 3.9 MB/s eta 0:00:09\n",
      "   ------------ --------------------------- 14.4/46.2 MB 3.8 MB/s eta 0:00:09\n",
      "   ------------- -------------------------- 15.2/46.2 MB 3.8 MB/s eta 0:00:09\n",
      "   ------------- -------------------------- 15.7/46.2 MB 3.8 MB/s eta 0:00:09\n",
      "   ------------- -------------------------- 16.0/46.2 MB 3.7 MB/s eta 0:00:09\n",
      "   -------------- ------------------------- 16.5/46.2 MB 3.6 MB/s eta 0:00:09\n",
      "   -------------- ------------------------- 16.8/46.2 MB 3.6 MB/s eta 0:00:09\n",
      "   -------------- ------------------------- 17.3/46.2 MB 3.4 MB/s eta 0:00:09\n",
      "   --------------- ------------------------ 17.6/46.2 MB 3.4 MB/s eta 0:00:09\n",
      "   --------------- ------------------------ 17.8/46.2 MB 3.4 MB/s eta 0:00:09\n",
      "   --------------- ------------------------ 17.8/46.2 MB 3.4 MB/s eta 0:00:09\n",
      "   --------------- ------------------------ 18.1/46.2 MB 3.1 MB/s eta 0:00:10\n",
      "   ---------------- ----------------------- 19.1/46.2 MB 3.1 MB/s eta 0:00:09\n",
      "   ----------------- ---------------------- 19.9/46.2 MB 3.2 MB/s eta 0:00:09\n",
      "   ------------------ --------------------- 21.0/46.2 MB 3.2 MB/s eta 0:00:08\n",
      "   ------------------ --------------------- 21.5/46.2 MB 3.2 MB/s eta 0:00:08\n",
      "   ------------------ --------------------- 21.8/46.2 MB 3.2 MB/s eta 0:00:08\n",
      "   ------------------- -------------------- 22.3/46.2 MB 3.1 MB/s eta 0:00:08\n",
      "   ------------------- -------------------- 22.8/46.2 MB 3.1 MB/s eta 0:00:08\n",
      "   -------------------- ------------------- 23.3/46.2 MB 3.1 MB/s eta 0:00:08\n",
      "   -------------------- ------------------- 23.9/46.2 MB 3.1 MB/s eta 0:00:08\n",
      "   --------------------- ------------------ 24.9/46.2 MB 3.1 MB/s eta 0:00:07\n",
      "   ---------------------- ----------------- 25.7/46.2 MB 3.1 MB/s eta 0:00:07\n",
      "   ---------------------- ----------------- 26.5/46.2 MB 3.1 MB/s eta 0:00:07\n",
      "   ----------------------- ---------------- 27.0/46.2 MB 3.1 MB/s eta 0:00:07\n",
      "   ------------------------ --------------- 28.3/46.2 MB 3.2 MB/s eta 0:00:06\n",
      "   ------------------------- -------------- 29.6/46.2 MB 3.3 MB/s eta 0:00:06\n",
      "   -------------------------- ------------- 30.9/46.2 MB 3.3 MB/s eta 0:00:05\n",
      "   --------------------------- ------------ 32.0/46.2 MB 3.4 MB/s eta 0:00:05\n",
      "   ---------------------------- ----------- 33.0/46.2 MB 3.4 MB/s eta 0:00:04\n",
      "   ----------------------------- ---------- 34.1/46.2 MB 3.5 MB/s eta 0:00:04\n",
      "   ------------------------------ --------- 35.1/46.2 MB 3.5 MB/s eta 0:00:04\n",
      "   ------------------------------- -------- 36.2/46.2 MB 3.5 MB/s eta 0:00:03\n",
      "   -------------------------------- ------- 37.5/46.2 MB 3.6 MB/s eta 0:00:03\n",
      "   --------------------------------- ------ 38.5/46.2 MB 3.6 MB/s eta 0:00:03\n",
      "   ---------------------------------- ----- 39.6/46.2 MB 3.6 MB/s eta 0:00:02\n",
      "   ----------------------------------- ---- 41.2/46.2 MB 3.7 MB/s eta 0:00:02\n",
      "   ------------------------------------ --- 42.5/46.2 MB 3.8 MB/s eta 0:00:01\n",
      "   ------------------------------------- -- 43.5/46.2 MB 3.8 MB/s eta 0:00:01\n",
      "   -------------------------------------- - 44.6/46.2 MB 3.8 MB/s eta 0:00:01\n",
      "   ---------------------------------------  45.9/46.2 MB 3.8 MB/s eta 0:00:01\n",
      "   ---------------------------------------- 46.2/46.2 MB 3.8 MB/s eta 0:00:00\n",
      "Downloading smart_open-7.1.0-py3-none-any.whl (61 kB)\n",
      "Installing collected packages: smart-open, scipy, gensim\n",
      "  Attempting uninstall: scipy\n",
      "    Found existing installation: scipy 1.14.1\n",
      "    Uninstalling scipy-1.14.1:\n",
      "      Successfully uninstalled scipy-1.14.1\n",
      "Successfully installed gensim-4.3.3 scipy-1.13.1 smart-open-7.1.0\n",
      "Note: you may need to restart the kernel to use updated packages.\n"
     ]
    },
    {
     "name": "stderr",
     "output_type": "stream",
     "text": [
      "\n",
      "[notice] A new release of pip is available: 24.2 -> 24.3.1\n",
      "[notice] To update, run: python.exe -m pip install --upgrade pip\n"
     ]
    }
   ],
   "source": [
    "%pip install gensim"
   ]
  },
  {
   "cell_type": "code",
   "execution_count": 3,
   "metadata": {},
   "outputs": [],
   "source": [
    "import gensim"
   ]
  },
  {
   "cell_type": "code",
   "execution_count": 4,
   "metadata": {},
   "outputs": [
    {
     "name": "stdout",
     "output_type": "stream",
     "text": [
      "Collecting python-Levenshtein\n",
      "  Downloading python_Levenshtein-0.26.1-py3-none-any.whl.metadata (3.7 kB)\n",
      "Collecting Levenshtein==0.26.1 (from python-Levenshtein)\n",
      "  Downloading levenshtein-0.26.1-cp311-cp311-win_amd64.whl.metadata (3.2 kB)\n",
      "Collecting rapidfuzz<4.0.0,>=3.9.0 (from Levenshtein==0.26.1->python-Levenshtein)\n",
      "  Downloading rapidfuzz-3.11.0-cp311-cp311-win_amd64.whl.metadata (11 kB)\n",
      "Downloading python_Levenshtein-0.26.1-py3-none-any.whl (9.4 kB)\n",
      "Downloading levenshtein-0.26.1-cp311-cp311-win_amd64.whl (98 kB)\n",
      "Downloading rapidfuzz-3.11.0-cp311-cp311-win_amd64.whl (1.6 MB)\n",
      "   ---------------------------------------- 0.0/1.6 MB ? eta -:--:--\n",
      "   -------------------------------------- - 1.6/1.6 MB 8.4 MB/s eta 0:00:01\n",
      "   ---------------------------------------- 1.6/1.6 MB 8.7 MB/s eta 0:00:00\n",
      "Installing collected packages: rapidfuzz, Levenshtein, python-Levenshtein\n",
      "Successfully installed Levenshtein-0.26.1 python-Levenshtein-0.26.1 rapidfuzz-3.11.0\n",
      "Note: you may need to restart the kernel to use updated packages.\n"
     ]
    },
    {
     "name": "stderr",
     "output_type": "stream",
     "text": [
      "\n",
      "[notice] A new release of pip is available: 24.2 -> 24.3.1\n",
      "[notice] To update, run: python.exe -m pip install --upgrade pip\n"
     ]
    }
   ],
   "source": [
    "%pip install python-Levenshtein"
   ]
  },
  {
   "cell_type": "code",
   "execution_count": 8,
   "metadata": {},
   "outputs": [
    {
     "data": {
      "text/html": [
       "<div>\n",
       "<style scoped>\n",
       "    .dataframe tbody tr th:only-of-type {\n",
       "        vertical-align: middle;\n",
       "    }\n",
       "\n",
       "    .dataframe tbody tr th {\n",
       "        vertical-align: top;\n",
       "    }\n",
       "\n",
       "    .dataframe thead th {\n",
       "        text-align: right;\n",
       "    }\n",
       "</style>\n",
       "<table border=\"1\" class=\"dataframe\">\n",
       "  <thead>\n",
       "    <tr style=\"text-align: right;\">\n",
       "      <th></th>\n",
       "      <th>reviewerID</th>\n",
       "      <th>asin</th>\n",
       "      <th>reviewerName</th>\n",
       "      <th>helpful</th>\n",
       "      <th>reviewText</th>\n",
       "      <th>overall</th>\n",
       "      <th>summary</th>\n",
       "      <th>unixReviewTime</th>\n",
       "      <th>reviewTime</th>\n",
       "    </tr>\n",
       "  </thead>\n",
       "  <tbody>\n",
       "    <tr>\n",
       "      <th>0</th>\n",
       "      <td>A30TL5EWN6DFXT</td>\n",
       "      <td>120401325X</td>\n",
       "      <td>christina</td>\n",
       "      <td>[0, 0]</td>\n",
       "      <td>They look good and stick good! I just don't li...</td>\n",
       "      <td>4</td>\n",
       "      <td>Looks Good</td>\n",
       "      <td>1400630400</td>\n",
       "      <td>05 21, 2014</td>\n",
       "    </tr>\n",
       "    <tr>\n",
       "      <th>1</th>\n",
       "      <td>ASY55RVNIL0UD</td>\n",
       "      <td>120401325X</td>\n",
       "      <td>emily l.</td>\n",
       "      <td>[0, 0]</td>\n",
       "      <td>These stickers work like the review says they ...</td>\n",
       "      <td>5</td>\n",
       "      <td>Really great product.</td>\n",
       "      <td>1389657600</td>\n",
       "      <td>01 14, 2014</td>\n",
       "    </tr>\n",
       "    <tr>\n",
       "      <th>2</th>\n",
       "      <td>A2TMXE2AFO7ONB</td>\n",
       "      <td>120401325X</td>\n",
       "      <td>Erica</td>\n",
       "      <td>[0, 0]</td>\n",
       "      <td>These are awesome and make my phone look so st...</td>\n",
       "      <td>5</td>\n",
       "      <td>LOVE LOVE LOVE</td>\n",
       "      <td>1403740800</td>\n",
       "      <td>06 26, 2014</td>\n",
       "    </tr>\n",
       "    <tr>\n",
       "      <th>3</th>\n",
       "      <td>AWJ0WZQYMYFQ4</td>\n",
       "      <td>120401325X</td>\n",
       "      <td>JM</td>\n",
       "      <td>[4, 4]</td>\n",
       "      <td>Item arrived in great time and was in perfect ...</td>\n",
       "      <td>4</td>\n",
       "      <td>Cute!</td>\n",
       "      <td>1382313600</td>\n",
       "      <td>10 21, 2013</td>\n",
       "    </tr>\n",
       "    <tr>\n",
       "      <th>4</th>\n",
       "      <td>ATX7CZYFXI1KW</td>\n",
       "      <td>120401325X</td>\n",
       "      <td>patrice m rogoza</td>\n",
       "      <td>[2, 3]</td>\n",
       "      <td>awesome! stays on, and looks great. can be use...</td>\n",
       "      <td>5</td>\n",
       "      <td>leopard home button sticker for iphone 4s</td>\n",
       "      <td>1359849600</td>\n",
       "      <td>02 3, 2013</td>\n",
       "    </tr>\n",
       "  </tbody>\n",
       "</table>\n",
       "</div>"
      ],
      "text/plain": [
       "       reviewerID        asin      reviewerName helpful  \\\n",
       "0  A30TL5EWN6DFXT  120401325X         christina  [0, 0]   \n",
       "1   ASY55RVNIL0UD  120401325X          emily l.  [0, 0]   \n",
       "2  A2TMXE2AFO7ONB  120401325X             Erica  [0, 0]   \n",
       "3   AWJ0WZQYMYFQ4  120401325X                JM  [4, 4]   \n",
       "4   ATX7CZYFXI1KW  120401325X  patrice m rogoza  [2, 3]   \n",
       "\n",
       "                                          reviewText  overall  \\\n",
       "0  They look good and stick good! I just don't li...        4   \n",
       "1  These stickers work like the review says they ...        5   \n",
       "2  These are awesome and make my phone look so st...        5   \n",
       "3  Item arrived in great time and was in perfect ...        4   \n",
       "4  awesome! stays on, and looks great. can be use...        5   \n",
       "\n",
       "                                     summary  unixReviewTime   reviewTime  \n",
       "0                                 Looks Good      1400630400  05 21, 2014  \n",
       "1                      Really great product.      1389657600  01 14, 2014  \n",
       "2                             LOVE LOVE LOVE      1403740800  06 26, 2014  \n",
       "3                                      Cute!      1382313600  10 21, 2013  \n",
       "4  leopard home button sticker for iphone 4s      1359849600   02 3, 2013  "
      ]
     },
     "execution_count": 8,
     "metadata": {},
     "output_type": "execute_result"
    }
   ],
   "source": [
    "df=pd.read_json('Cell_Phones_and_Accessories_5.json',lines=True)\n",
    "df.head()\n",
    "#lines = True is used to read the file as json object per line\n"
   ]
  },
  {
   "cell_type": "code",
   "execution_count": 9,
   "metadata": {},
   "outputs": [
    {
     "data": {
      "text/plain": [
       "(194439, 9)"
      ]
     },
     "execution_count": 9,
     "metadata": {},
     "output_type": "execute_result"
    }
   ],
   "source": [
    "df.shape"
   ]
  },
  {
   "cell_type": "code",
   "execution_count": 10,
   "metadata": {},
   "outputs": [
    {
     "data": {
      "text/plain": [
       "\"They look good and stick good! I just don't like the rounded shape because I was always bumping it and Siri kept popping up and it was irritating. I just won't buy a product like this again\""
      ]
     },
     "execution_count": 10,
     "metadata": {},
     "output_type": "execute_result"
    }
   ],
   "source": [
    "df.reviewText[0]"
   ]
  },
  {
   "cell_type": "code",
   "execution_count": 11,
   "metadata": {},
   "outputs": [
    {
     "data": {
      "text/plain": [
       "['they',\n",
       " 'look',\n",
       " 'good',\n",
       " 'and',\n",
       " 'stick',\n",
       " 'good',\n",
       " 'just',\n",
       " 'don',\n",
       " 'like',\n",
       " 'the',\n",
       " 'rounded',\n",
       " 'shape',\n",
       " 'because',\n",
       " 'was',\n",
       " 'always',\n",
       " 'bumping',\n",
       " 'it',\n",
       " 'and',\n",
       " 'siri',\n",
       " 'kept',\n",
       " 'popping',\n",
       " 'up',\n",
       " 'and',\n",
       " 'it',\n",
       " 'was',\n",
       " 'irritating',\n",
       " 'just',\n",
       " 'won',\n",
       " 'buy',\n",
       " 'product',\n",
       " 'like',\n",
       " 'this',\n",
       " 'again']"
      ]
     },
     "execution_count": 11,
     "metadata": {},
     "output_type": "execute_result"
    }
   ],
   "source": [
    "#gensim is used to remove stopwords\n",
    "#it removes punctuations and stopwords from the text\n",
    "gensim.utils.simple_preprocess(df.reviewText[0])"
   ]
  },
  {
   "cell_type": "code",
   "execution_count": 12,
   "metadata": {},
   "outputs": [],
   "source": [
    "reviewText=df.reviewText.apply(gensim.utils.simple_preprocess)"
   ]
  },
  {
   "cell_type": "code",
   "execution_count": 13,
   "metadata": {},
   "outputs": [
    {
     "data": {
      "text/plain": [
       "0         [they, look, good, and, stick, good, just, don...\n",
       "1         [these, stickers, work, like, the, review, say...\n",
       "2         [these, are, awesome, and, make, my, phone, lo...\n",
       "3         [item, arrived, in, great, time, and, was, in,...\n",
       "4         [awesome, stays, on, and, looks, great, can, b...\n",
       "                                ...                        \n",
       "194434    [works, great, just, like, my, original, one, ...\n",
       "194435    [great, product, great, packaging, high, quali...\n",
       "194436    [this, is, great, cable, just, as, good, as, t...\n",
       "194437    [really, like, it, becasue, it, works, well, w...\n",
       "194438    [product, as, described, have, wasted, lot, of...\n",
       "Name: reviewText, Length: 194439, dtype: object"
      ]
     },
     "execution_count": 13,
     "metadata": {},
     "output_type": "execute_result"
    }
   ],
   "source": [
    "reviewText"
   ]
  },
  {
   "cell_type": "code",
   "execution_count": 14,
   "metadata": {},
   "outputs": [],
   "source": [
    "model=gensim.models.Word2Vec(reviewText,window=10,min_count=2)\n",
    "#window=10 means it will consider 10 words before and after the word\n",
    "#min_count=2 means it will consider the word which is present atleast 2 times\n"
   ]
  },
  {
   "cell_type": "code",
   "execution_count": 15,
   "metadata": {},
   "outputs": [],
   "source": [
    "model.build_vocab(reviewText,progress_per=1000)\n",
    "#progress_per=1000 means it will show the progress after every 1000 words\n",
    "#if we want explain it more deeply then we can use progress_per=1 or 2 or 3 etc\n",
    "#build_vocab() function is used to build the vocabulary of the text data\n",
    "#it returns the vocabulary of the text data\n"
   ]
  },
  {
   "cell_type": "code",
   "execution_count": 16,
   "metadata": {},
   "outputs": [
    {
     "data": {
      "text/plain": [
       "5"
      ]
     },
     "execution_count": 16,
     "metadata": {},
     "output_type": "execute_result"
    }
   ],
   "source": [
    "model.epochs"
   ]
  },
  {
   "cell_type": "code",
   "execution_count": 17,
   "metadata": {},
   "outputs": [
    {
     "data": {
      "text/plain": [
       "194439"
      ]
     },
     "execution_count": 17,
     "metadata": {},
     "output_type": "execute_result"
    }
   ],
   "source": [
    "model.corpus_count"
   ]
  },
  {
   "cell_type": "code",
   "execution_count": 18,
   "metadata": {},
   "outputs": [
    {
     "data": {
      "text/plain": [
       "(61506611, 83868975)"
      ]
     },
     "execution_count": 18,
     "metadata": {},
     "output_type": "execute_result"
    }
   ],
   "source": [
    "model.train(reviewText,total_examples=model.corpus_count,epochs=model.epochs)\n",
    "#training the model\n",
    "#total_examples=model.corpus_count means it will train the model on all the examples\n",
    "#epochs=model.epochs means it will train the model on all the epochs\n",
    "\n"
   ]
  },
  {
   "cell_type": "code",
   "execution_count": null,
   "metadata": {},
   "outputs": [],
   "source": [
    "model.save(\"./word2vec-amazon-cell-accessories.model\")\n",
    "#model.save is used to save the model\n",
    "#which can be used later to load the model and use it for prediction\n"
   ]
  },
  {
   "cell_type": "code",
   "execution_count": 19,
   "metadata": {},
   "outputs": [
    {
     "data": {
      "text/plain": [
       "[('decent', 0.8195676207542419),\n",
       " ('great', 0.7883313298225403),\n",
       " ('nice', 0.6843615174293518),\n",
       " ('fantastic', 0.6524198055267334),\n",
       " ('excellent', 0.6204981803894043),\n",
       " ('bad', 0.5880953669548035),\n",
       " ('reasonable', 0.5850681066513062),\n",
       " ('awesome', 0.5810140371322632),\n",
       " ('amazing', 0.5582892298698425),\n",
       " ('exceptional', 0.5527898073196411)]"
      ]
     },
     "execution_count": 19,
     "metadata": {},
     "output_type": "execute_result"
    }
   ],
   "source": [
    "model.wv.most_similar(\"good\")\n",
    "#it will give the words which are similar to good"
   ]
  },
  {
   "cell_type": "code",
   "execution_count": 20,
   "metadata": {},
   "outputs": [
    {
     "data": {
      "text/plain": [
       "[('terrible', 0.6682933568954468),\n",
       " ('shabby', 0.5997092127799988),\n",
       " ('good', 0.5880953073501587),\n",
       " ('okay', 0.5426225066184998),\n",
       " ('cheap', 0.5265825986862183),\n",
       " ('ok', 0.5232563614845276),\n",
       " ('horrible', 0.5035413503646851),\n",
       " ('awful', 0.5011676549911499),\n",
       " ('poor', 0.49586746096611023),\n",
       " ('promising', 0.4863770008087158)]"
      ]
     },
     "execution_count": 20,
     "metadata": {},
     "output_type": "execute_result"
    }
   ],
   "source": [
    "model.wv.most_similar(\"bad\")\n",
    "#it will give the words which are similar to bad"
   ]
  },
  {
   "cell_type": "code",
   "execution_count": 21,
   "metadata": {},
   "outputs": [
    {
     "data": {
      "text/plain": [
       "0.58809537"
      ]
     },
     "execution_count": 21,
     "metadata": {},
     "output_type": "execute_result"
    }
   ],
   "source": [
    "model.wv.similarity(w1=\"good\",w2=\"bad\")\n",
    "#it will give the similarity between good and bad\n",
    "# the result is the cosine similarity between the two words\n",
    "#cosine is the angle between the two words"
   ]
  },
  {
   "cell_type": "code",
   "execution_count": 22,
   "metadata": {},
   "outputs": [
    {
     "data": {
      "text/plain": [
       "0.6204982"
      ]
     },
     "execution_count": 22,
     "metadata": {},
     "output_type": "execute_result"
    }
   ],
   "source": [
    "model.wv.similarity(w1=\"good\",w2=\"excellent\")\n",
    "#it will give the similarity between good and excellent"
   ]
  },
  {
   "cell_type": "code",
   "execution_count": 23,
   "metadata": {},
   "outputs": [
    {
     "data": {
      "text/plain": [
       "0.58809537"
      ]
     },
     "execution_count": 23,
     "metadata": {},
     "output_type": "execute_result"
    }
   ],
   "source": [
    "model.wv.similarity(w1=\"good\",w2=\"bad\")"
   ]
  },
  {
   "cell_type": "code",
   "execution_count": 24,
   "metadata": {},
   "outputs": [
    {
     "data": {
      "text/plain": [
       "0.0032725625"
      ]
     },
     "execution_count": 24,
     "metadata": {},
     "output_type": "execute_result"
    }
   ],
   "source": [
    "model.wv.similarity(w1=\"good\",w2=\"phone\")\n",
    "#neagtive value means they are not similar\n",
    "#positive value means they are similar\n",
    "#1 means they are similar\n",
    "#0 means they are not similar"
   ]
  }
 ],
 "metadata": {
  "kernelspec": {
   "display_name": "Python 3",
   "language": "python",
   "name": "python3"
  },
  "language_info": {
   "codemirror_mode": {
    "name": "ipython",
    "version": 3
   },
   "file_extension": ".py",
   "mimetype": "text/x-python",
   "name": "python",
   "nbconvert_exporter": "python",
   "pygments_lexer": "ipython3",
   "version": "3.11.8"
  }
 },
 "nbformat": 4,
 "nbformat_minor": 2
}
